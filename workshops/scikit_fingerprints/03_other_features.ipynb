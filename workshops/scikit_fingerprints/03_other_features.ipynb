{
 "cells": [
  {
   "cell_type": "markdown",
   "id": "a8de7dd3-81cd-4e0e-8621-c3df1996af68",
   "metadata": {
    "collapsed": true,
    "jupyter": {
     "outputs_hidden": true
    }
   },
   "source": [
    "# Other interesting features"
   ]
  },
  {
   "cell_type": "markdown",
   "id": "6ac4827a-fb8b-4ac3-8d7a-ffc9a603e391",
   "metadata": {},
   "source": [
    "Scikit-fingerprints contains many other larger and smaller features, two of which we cover here: working with peptides and checking applicability domain (AD)."
   ]
  },
  {
   "cell_type": "markdown",
   "id": "87d8dc39-ff7d-441a-b909-74ae91b6265a",
   "metadata": {},
   "source": [
    "## Peptides\n",
    "\n",
    "Scikit-fingerprints enables the user to work with peptide data easily. Those small biologics are of great interest as therapeutics, particularly seeing the success of semaglutide.\n",
    "\n",
    "RDKit can read natural amino acid sequences out-of-the-box and parse them as `Mol` objects. We used this capability [in our publication](https://arxiv.org/abs/2501.17901) to show that molecular fingerprints are simple, yet very effective tools for peptide property predition.\n",
    "\n",
    "Here, we will use the antimicrobial peptides (AMPs) [benchmark by Xu et al.](https://academic.oup.com/bib/article/22/5/bbab083/6189771) (also known as XuAMP). The goal is to predict whether a peptide shows general antimicrobial effect or not."
   ]
  },
  {
   "cell_type": "code",
   "execution_count": null,
   "id": "a748f9c7-c5a7-4cf2-8f21-e311ad066751",
   "metadata": {
    "ExecuteTime": {
     "end_time": "2025-09-07T19:53:41.907969Z",
     "start_time": "2025-09-07T19:53:41.751342Z"
    }
   },
   "outputs": [],
   "source": [
    "import numpy as np\n",
    "from Bio import SeqIO\n",
    "\n",
    "\n",
    "def read_seqs_from_fasta(path: str) -> list[str]:\n",
    "    return [str(record.seq) for record in SeqIO.parse(path, \"fasta\")]\n",
    "\n",
    "\n",
    "train_pos = read_seqs_from_fasta(\"data/Xu_AMP/train_positive.fasta\")\n",
    "train_neg = read_seqs_from_fasta(\"data/Xu_AMP/train_negative.fasta\")\n",
    "test_pos = read_seqs_from_fasta(\"data/Xu_AMP/test_positive.fasta\")\n",
    "test_neg = read_seqs_from_fasta(\"data/Xu_AMP/test_negative.fasta\")\n",
    "\n",
    "labels_train = np.array([1] * len(train_pos) + [0] * len(train_neg))\n",
    "labels_test = np.array([1] * len(test_pos) + [0] * len(test_neg))\n",
    "\n",
    "seqs_train = train_pos + train_neg\n",
    "seqs_test = test_pos + test_neg"
   ]
  },
  {
   "cell_type": "code",
   "execution_count": null,
   "id": "0c07417f-4d36-46eb-a010-3bfdcd262f5b",
   "metadata": {
    "ExecuteTime": {
     "end_time": "2025-09-07T19:53:41.916839Z",
     "start_time": "2025-09-07T19:53:41.913593Z"
    }
   },
   "outputs": [],
   "source": [
    "print(f\"Sample sequence: {seqs_train[0]}\")\n",
    "print()\n",
    "print(f\"Training peptides: {len(seqs_train)}\")\n",
    "print(f\"Test peptides: {len(seqs_test)}\")"
   ]
  },
  {
   "cell_type": "markdown",
   "id": "2fed7057e994a19d",
   "metadata": {},
   "source": [
    "**Exercise 1**\n",
    "\n",
    "Transform aminosequences into molecules using `MolFromAminoseqTransformer`. This is very similar to `MolFromSmilesTransformer`. See [documentation](https://scikit-fingerprints.readthedocs.io/latest/modules/generated/skfp.preprocessing.MolFromAminoseqTransformer.html) if necessary.\n",
    "\n",
    "Using multiple processes here is very useful, since peptides are larger molecules and dataset is quite large."
   ]
  },
  {
   "cell_type": "code",
   "execution_count": null,
   "id": "e80b0f4faf9b6a67",
   "metadata": {
    "ExecuteTime": {
     "end_time": "2025-09-07T19:53:54.916930Z",
     "start_time": "2025-09-07T19:53:41.950843Z"
    }
   },
   "outputs": [],
   "source": []
  },
  {
   "cell_type": "markdown",
   "id": "c8a149947627ef5a",
   "metadata": {},
   "source": [
    "**Exercise 2**\n",
    "\n",
    "Let's test a few fingerprints for the peptide function prediction task:\n",
    "\n",
    "1. Try ECFP, Topological Torsion, and RDKit fingerprints ([documentation](https://scikit-fingerprints.readthedocs.io/latest/modules/fingerprints.html)). Compare their binary and count variants. Remember to parallelize fingerprints with `n_jobs`.\n",
    "2. Use Random Forest classifier. Using `n_jobs` and setting `random_state=0` will be useful.\n",
    "3. Evaluate using AUROC.\n",
    "\n",
    "This will result in 6 scores, and will allow comparison of fingerprints and binary vs count approach."
   ]
  },
  {
   "cell_type": "code",
   "execution_count": null,
   "id": "9dee49859541427a",
   "metadata": {
    "ExecuteTime": {
     "end_time": "2025-09-07T19:55:41.015114Z",
     "start_time": "2025-09-07T19:53:54.925469Z"
    }
   },
   "outputs": [],
   "source": []
  },
  {
   "cell_type": "markdown",
   "id": "9e88ea97-35d6-4a97-9ee3-dd05ccc2ed6d",
   "metadata": {},
   "source": [
    "## Applicability domain checking\n",
    "\n",
    "Appicability domain (AD) is the area of chemical space spanned by the training dataset, also known as in-domain samples in machine learning. Predictions for out-of-distribution molecules, outside this AD, are inherently less reliable and should be less trusted. Thus, falling inside or outside of AD is the basic indicator of prediction certainty.\n",
    "\n",
    "There are various algorithms to check this, based on descriptor space geometry, variance analysis and feature reduction, or ensemble classifier probability distribution, among others. See e.g. [this paper](https://jcheminf.biomedcentral.com/articles/10.1186/s13321-017-0230-2) for an overview.\n",
    "\n",
    "As our main training dataset we will use the [BACE dataset from MoleculeNet benchmark](https://scikit-fingerprints.readthedocs.io/latest/modules/datasets/generated/skfp.datasets.moleculenet.load_bace.html), where we need to predict the ability of molecules to inhibit the beta-secretase 1 enzyme. It is suspected to be related to the development of Alzheimer's disease.\n",
    "\n",
    "Further, we will use [ApisTox dataset](http://doi.org/10.1038/s41597-024-04232-w) to provide pesticide compounds, in most cases obviously out-of-domain of BACE dataset."
   ]
  },
  {
   "cell_type": "code",
   "execution_count": null,
   "id": "ee358f319343b96a",
   "metadata": {
    "ExecuteTime": {
     "end_time": "2025-09-07T19:55:41.548744Z",
     "start_time": "2025-09-07T19:55:41.026974Z"
    }
   },
   "outputs": [],
   "source": [
    "from skfp.datasets.moleculenet import load_bace\n",
    "import pandas as pd\n",
    "\n",
    "bace_smiles, _ = load_bace()\n",
    "\n",
    "apistox_smiles = pd.read_csv(\"data/ApisTox/dataset_final.csv\")[\"SMILES\"]"
   ]
  },
  {
   "cell_type": "code",
   "execution_count": null,
   "id": "a69db46956d05f69",
   "metadata": {
    "ExecuteTime": {
     "end_time": "2025-09-07T19:55:41.714770Z",
     "start_time": "2025-09-07T19:55:41.551744Z"
    },
    "scrolled": true
   },
   "outputs": [],
   "source": [
    "from skfp.fingerprints import ECFPFingerprint\n",
    "\n",
    "ecfp = ECFPFingerprint(n_jobs=-1, count=True)\n",
    "\n",
    "X_bace = ecfp.transform(bace_smiles)\n",
    "X_apistox = ecfp.transform(apistox_smiles)"
   ]
  },
  {
   "cell_type": "markdown",
   "id": "051ddefe-1bd6-43b4-8403-afd581b0ec69",
   "metadata": {},
   "source": [
    "Let's check the internal diversity of those datasets, using the average Tanimoto similarity between molecules. We also used this technique [in ApisTox follow-up paper](https://arxiv.org/abs/2503.24305)."
   ]
  },
  {
   "cell_type": "code",
   "execution_count": null,
   "id": "7c562f44-04cb-4d4f-89bb-9618c639df39",
   "metadata": {
    "ExecuteTime": {
     "end_time": "2025-09-07T19:55:44.384010Z",
     "start_time": "2025-09-07T19:55:41.721539Z"
    }
   },
   "outputs": [],
   "source": [
    "import numpy as np\n",
    "from skfp.distances import bulk_tanimoto_count_similarity\n",
    "\n",
    "\n",
    "bace_self_sim = bulk_tanimoto_count_similarity(X_bace)\n",
    "apistox_self_sim = bulk_tanimoto_count_similarity(X_apistox)\n",
    "cross_dataset_sim = bulk_tanimoto_count_similarity(X_bace, X_apistox)\n",
    "\n",
    "# select upper triangle of similarity matrix for self-similarity\n",
    "bace_self_mean = bace_self_sim[np.triu_indices_from(bace_self_sim, k=1)].mean()\n",
    "apistox_self_mean = apistox_self_sim[np.triu_indices_from(apistox_self_sim, k=1)].mean()\n",
    "cross_dataset_mean = cross_dataset_sim.mean()\n",
    "\n",
    "print(f\"Avg BACE Tanimoto self-similarity: {bace_self_mean:.3f}\")\n",
    "print(f\"Avg ApisTox Tanimoto self-similarity: {apistox_self_mean:.3f}\")\n",
    "print(f\"Avg BACE-ApisTox Tanimoto similarity: {cross_dataset_mean:.3f}\")"
   ]
  },
  {
   "cell_type": "markdown",
   "id": "d38de472-6e77-44b2-855e-d7be436d12a9",
   "metadata": {},
   "source": [
    "Let's use the [bounding box method](https://scikit-fingerprints.readthedocs.io/latest/modules/generated/skfp.applicability_domain.ConvexHullADChecker.html) for checking the applicability domain. It simply checks if the feature values fall inside the min-max range seen in the training data, basically performing univariate outlier detection. Note that many AD checks do not work well on fingerprints, including this one, so we will use continuous RDKit descriptors instead.\n",
    "\n",
    "AD checkers, in contrast to fingerprints, need to be fitted to training data with `.fit()` method. Then we can use the `.predict()` method to get binary outside/inside AD predictions (inside = class 1). Some algorithms also implement an interpretable `.score_samples()` method to get a continous score how far a molecule is from the applicability domain."
   ]
  },
  {
   "cell_type": "code",
   "execution_count": null,
   "id": "b1e13b7b-039b-44cf-a519-51517845caee",
   "metadata": {
    "ExecuteTime": {
     "end_time": "2025-09-07T19:55:50.896948Z",
     "start_time": "2025-09-07T19:55:44.399209Z"
    },
    "scrolled": true
   },
   "outputs": [],
   "source": [
    "from skfp.fingerprints import RDKit2DDescriptorsFingerprint\n",
    "from sklearn.impute import SimpleImputer\n",
    "\n",
    "\n",
    "fp = RDKit2DDescriptorsFingerprint(n_jobs=-1)\n",
    "X_bace = fp.transform(bace_smiles)\n",
    "X_apistox = fp.transform(apistox_smiles)\n",
    "\n",
    "# some RDKit descriptors may have missing values in some cases\n",
    "imputer = SimpleImputer()\n",
    "X_bace = imputer.fit_transform(X_bace)\n",
    "X_apistox = imputer.transform(X_apistox)"
   ]
  },
  {
   "cell_type": "code",
   "execution_count": null,
   "id": "3c99521d-e0f9-4057-882e-8644dcf55128",
   "metadata": {
    "ExecuteTime": {
     "end_time": "2025-09-07T19:55:50.918481Z",
     "start_time": "2025-09-07T19:55:50.903945Z"
    },
    "scrolled": true
   },
   "outputs": [],
   "source": [
    "from skfp.applicability_domain import BoundingBoxADChecker\n",
    "\n",
    "\n",
    "ad_checker = BoundingBoxADChecker()\n",
    "ad_checker.fit(X_bace)\n",
    "\n",
    "ad_preds = ad_checker.predict(X_apistox)\n",
    "\n",
    "num_inside_ad = ad_preds.sum()\n",
    "num_outside_ad = (~ad_preds).sum()\n",
    "\n",
    "print(f\"ApisTox size: {len(X_apistox)}\")\n",
    "print(f\"Num inside AD: {num_inside_ad}\")\n",
    "print(f\"Num outside AD: {num_outside_ad}\")"
   ]
  },
  {
   "cell_type": "code",
   "execution_count": null,
   "id": "6630249ced383ee0",
   "metadata": {},
   "outputs": [],
   "source": []
  }
 ],
 "metadata": {
  "kernelspec": {
   "display_name": "Python 3 (ipykernel)",
   "language": "python",
   "name": "python3"
  },
  "language_info": {
   "codemirror_mode": {
    "name": "ipython",
    "version": 3
   },
   "file_extension": ".py",
   "mimetype": "text/x-python",
   "name": "python",
   "nbconvert_exporter": "python",
   "pygments_lexer": "ipython3",
   "version": "3.11.13"
  }
 },
 "nbformat": 4,
 "nbformat_minor": 5
}
