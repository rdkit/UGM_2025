{
 "cells": [
  {
   "cell_type": "markdown",
   "id": "a8de7dd3-81cd-4e0e-8621-c3df1996af68",
   "metadata": {
    "collapsed": true,
    "jupyter": {
     "outputs_hidden": true
    }
   },
   "source": [
    "# Other interesting features"
   ]
  },
  {
   "cell_type": "markdown",
   "id": "6ac4827a-fb8b-4ac3-8d7a-ffc9a603e391",
   "metadata": {},
   "source": [
    "Scikit-fingerprints contains many other larger and smaller features, two of which we cover here: working with peptides and checking applicability domain (AD)."
   ]
  },
  {
   "cell_type": "markdown",
   "id": "87d8dc39-ff7d-441a-b909-74ae91b6265a",
   "metadata": {},
   "source": [
    "## Peptides\n",
    "\n",
    "Scikit-fingerprints enables the user to work with peptide data easily. Those small biologics are of great interest as therapeutics, particularly seeing the success of semaglutide.\n",
    "\n",
    "RDKit can read natural amino acid sequences out-of-the-box and parse them as `Mol` objects. We used this capability [in our publication](https://arxiv.org/abs/2501.17901) to show that molecular fingerprints are simple, yet very effective tools for peptide property predition.\n",
    "\n",
    "Here, we will use the antimicrobial peptides (AMPs) [benchmark by Xu et al.](https://academic.oup.com/bib/article/22/5/bbab083/6189771) (also known as XuAMP). The goal is to predict whether a peptide shows general antimicrobial effect or not."
   ]
  },
  {
   "cell_type": "code",
   "execution_count": 1,
   "id": "a748f9c7-c5a7-4cf2-8f21-e311ad066751",
   "metadata": {
    "ExecuteTime": {
     "end_time": "2025-09-10T14:29:01.194020Z",
     "start_time": "2025-09-10T14:29:01.089943Z"
    }
   },
   "outputs": [],
   "source": [
    "import numpy as np\n",
    "from Bio import SeqIO\n",
    "\n",
    "\n",
    "def read_seqs_from_fasta(path: str) -> list[str]:\n",
    "    return [str(record.seq) for record in SeqIO.parse(path, \"fasta\")]\n",
    "\n",
    "\n",
    "train_pos = read_seqs_from_fasta(\"../data/Xu_AMP/train_positive.fasta\")\n",
    "train_neg = read_seqs_from_fasta(\"../data/Xu_AMP/train_negative.fasta\")\n",
    "test_pos = read_seqs_from_fasta(\"../data/Xu_AMP/test_positive.fasta\")\n",
    "test_neg = read_seqs_from_fasta(\"../data/Xu_AMP/test_negative.fasta\")\n",
    "\n",
    "labels_train = np.array([1] * len(train_pos) + [0] * len(train_neg))\n",
    "labels_test = np.array([1] * len(test_pos) + [0] * len(test_neg))\n",
    "\n",
    "seqs_train = train_pos + train_neg\n",
    "seqs_test = test_pos + test_neg"
   ]
  },
  {
   "cell_type": "code",
   "execution_count": 2,
   "id": "0c07417f-4d36-46eb-a010-3bfdcd262f5b",
   "metadata": {
    "ExecuteTime": {
     "end_time": "2025-09-10T14:29:01.200334Z",
     "start_time": "2025-09-10T14:29:01.196982Z"
    }
   },
   "outputs": [
    {
     "name": "stdout",
     "output_type": "stream",
     "text": [
      "Sample sequence: MTRSKKLNLREMKNVVGGTYYGNGVSCNKKGCSVDWGKAISIIGNNSAANLATGGAAGWKS\n",
      "\n",
      "Training peptides: 11072\n",
      "Test peptides: 3072\n"
     ]
    }
   ],
   "source": [
    "print(f\"Sample sequence: {seqs_train[0]}\")\n",
    "print()\n",
    "print(f\"Training peptides: {len(seqs_train)}\")\n",
    "print(f\"Test peptides: {len(seqs_test)}\")"
   ]
  },
  {
   "cell_type": "markdown",
   "id": "2fed7057e994a19d",
   "metadata": {},
   "source": [
    "**Exercise 1**\n",
    "\n",
    "Transform aminosequences into molecules using `MolFromAminoseqTransformer`. This is very similar to `MolFromSmilesTransformer`. See [documentation](https://scikit-fingerprints.readthedocs.io/latest/modules/generated/skfp.preprocessing.MolFromAminoseqTransformer.html) if necessary.\n",
    "\n",
    "Using multiple processes here is very useful, since peptides are larger molecules and dataset is quite large."
   ]
  },
  {
   "cell_type": "code",
   "execution_count": 3,
   "id": "e80b0f4faf9b6a67",
   "metadata": {
    "ExecuteTime": {
     "end_time": "2025-09-10T14:29:14.258878Z",
     "start_time": "2025-09-10T14:29:01.286467Z"
    }
   },
   "outputs": [],
   "source": [
    "from skfp.preprocessing import MolFromAminoseqTransformer, MolFromSmilesTransformer\n",
    "\n",
    "mol_from_seq = MolFromAminoseqTransformer(n_jobs=-1)\n",
    "\n",
    "mols_train = mol_from_seq.transform(seqs_train)\n",
    "mols_test = mol_from_seq.transform(seqs_test)"
   ]
  },
  {
   "cell_type": "markdown",
   "id": "c8a149947627ef5a",
   "metadata": {},
   "source": [
    "**Exercise 2**\n",
    "\n",
    "Let's test a few fingerprints for the peptide function prediction task:\n",
    "\n",
    "1. Try ECFP, Topological Torsion, and RDKit fingerprints ([documentation](https://scikit-fingerprints.readthedocs.io/latest/modules/fingerprints.html)). Compare their binary and count variants. Remember to parallelize fingerprints with `n_jobs`.\n",
    "2. Use Random Forest classifier. Using `n_jobs` and setting `random_state=0` will be useful.\n",
    "3. Evaluate using AUROC.\n",
    "\n",
    "This will result in 6 scores, and will allow comparison of fingerprints and binary vs count approach."
   ]
  },
  {
   "cell_type": "code",
   "execution_count": 4,
   "id": "9dee49859541427a",
   "metadata": {
    "ExecuteTime": {
     "end_time": "2025-09-10T14:31:50.476654Z",
     "start_time": "2025-09-10T14:29:14.269687Z"
    }
   },
   "outputs": [
    {
     "name": "stdout",
     "output_type": "stream",
     "text": [
      "AUROC for ECFPFingerprint, binary variant: 69.71%\n",
      "AUROC for ECFPFingerprint, count variant: 73.84%\n",
      "AUROC for TopologicalTorsionFingerprint, binary variant: 71.56%\n",
      "AUROC for TopologicalTorsionFingerprint, count variant: 71.62%\n",
      "AUROC for RDKitFingerprint, binary variant: 64.82%\n",
      "AUROC for RDKitFingerprint, count variant: 72.65%\n"
     ]
    }
   ],
   "source": [
    "from sklearn.ensemble import RandomForestClassifier\n",
    "from sklearn.metrics import roc_auc_score\n",
    "from skfp.fingerprints import (\n",
    "    ECFPFingerprint,\n",
    "    TopologicalTorsionFingerprint,\n",
    "    RDKitFingerprint,\n",
    ")\n",
    "\n",
    "\n",
    "fingerprints = [ECFPFingerprint, TopologicalTorsionFingerprint, RDKitFingerprint]\n",
    "\n",
    "for fp_class in fingerprints:\n",
    "    for count in [False, True]:\n",
    "        fp_transformer = fp_class(n_jobs=-1, count=count)\n",
    "\n",
    "        fps_train = fp_transformer.transform(mols_train)\n",
    "        fps_test = fp_transformer.transform(mols_test)\n",
    "\n",
    "        clf = RandomForestClassifier(n_jobs=-1, random_state=0)\n",
    "        clf.fit(fps_train, labels_train)\n",
    "\n",
    "        y_pred_proba = clf.predict_proba(fps_test)[:, 1]\n",
    "        auroc = roc_auc_score(labels_test, y_pred_proba)\n",
    "\n",
    "        use_count = \"count\" if count else \"binary\"\n",
    "        print(f\"AUROC for {fp_class.__name__}, {use_count} variant: {auroc:.2%}\")"
   ]
  },
  {
   "cell_type": "markdown",
   "id": "9e88ea97-35d6-4a97-9ee3-dd05ccc2ed6d",
   "metadata": {},
   "source": [
    "## Applicability domain checking\n",
    "\n",
    "Appicability domain (AD) is the area of chemical space spanned by the training dataset, also known as in-domain samples in machine learning. Predictions for out-of-distribution molecules, outside this AD, are inherently less reliable and should be less trusted. Thus, falling inside or outside of AD is the basic indicator of prediction certainty.\n",
    "\n",
    "There are various algorithms to check this, based on descriptor space geometry, variance analysis and feature reduction, or ensemble classifier probability distribution, among others. See e.g. [this paper](https://jcheminf.biomedcentral.com/articles/10.1186/s13321-017-0230-2) for an overview.\n",
    "\n",
    "As our main training dataset we will use the [BACE dataset from MoleculeNet benchmark](https://scikit-fingerprints.readthedocs.io/latest/modules/datasets/generated/skfp.datasets.moleculenet.load_bace.html), where we need to predict the ability of molecules to inhibit the beta-secretase 1 enzyme. It is suspected to be related to the development of Alzheimer's disease.\n",
    "\n",
    "Further, we will use [ApisTox dataset](http://doi.org/10.1038/s41597-024-04232-w) to provide pesticide compounds, in most cases obviously out-of-domain of BACE dataset."
   ]
  },
  {
   "cell_type": "code",
   "execution_count": 5,
   "id": "ee358f319343b96a",
   "metadata": {
    "ExecuteTime": {
     "end_time": "2025-09-10T14:31:51.504138Z",
     "start_time": "2025-09-10T14:31:50.536558Z"
    }
   },
   "outputs": [],
   "source": [
    "from skfp.datasets.moleculenet import load_bace\n",
    "import pandas as pd\n",
    "\n",
    "bace_smiles, _ = load_bace()\n",
    "\n",
    "apistox_smiles = pd.read_csv(\"../data/ApisTox/dataset_final.csv\")[\"SMILES\"]"
   ]
  },
  {
   "cell_type": "code",
   "execution_count": 6,
   "id": "a69db46956d05f69",
   "metadata": {
    "ExecuteTime": {
     "end_time": "2025-09-10T14:31:51.810532Z",
     "start_time": "2025-09-10T14:31:51.507135Z"
    },
    "scrolled": true
   },
   "outputs": [],
   "source": [
    "from skfp.fingerprints import ECFPFingerprint\n",
    "\n",
    "ecfp = ECFPFingerprint(n_jobs=-1, count=True)\n",
    "\n",
    "X_bace = ecfp.transform(bace_smiles)\n",
    "X_apistox = ecfp.transform(apistox_smiles)"
   ]
  },
  {
   "cell_type": "markdown",
   "id": "051ddefe-1bd6-43b4-8403-afd581b0ec69",
   "metadata": {},
   "source": [
    "Let's check the internal diversity of those datasets, using the average Tanimoto similarity between molecules. We also used this technique [in ApisTox follow-up paper](https://arxiv.org/abs/2503.24305)."
   ]
  },
  {
   "cell_type": "code",
   "execution_count": 7,
   "id": "7c562f44-04cb-4d4f-89bb-9618c639df39",
   "metadata": {
    "ExecuteTime": {
     "end_time": "2025-09-10T14:31:56.406142Z",
     "start_time": "2025-09-10T14:31:51.821487Z"
    }
   },
   "outputs": [
    {
     "name": "stdout",
     "output_type": "stream",
     "text": [
      "Avg BACE Tanimoto self-similarity: 0.448\n",
      "Avg ApisTox Tanimoto self-similarity: 0.179\n",
      "Avg BACE-ApisTox Tanimoto similarity: 0.235\n"
     ]
    }
   ],
   "source": [
    "import numpy as np\n",
    "from skfp.distances import bulk_tanimoto_count_similarity\n",
    "\n",
    "\n",
    "bace_self_sim = bulk_tanimoto_count_similarity(X_bace)\n",
    "apistox_self_sim = bulk_tanimoto_count_similarity(X_apistox)\n",
    "cross_dataset_sim = bulk_tanimoto_count_similarity(X_bace, X_apistox)\n",
    "\n",
    "# select upper triangle of similarity matrix for self-similarity\n",
    "bace_self_mean = bace_self_sim[np.triu_indices_from(bace_self_sim, k=1)].mean()\n",
    "apistox_self_mean = apistox_self_sim[np.triu_indices_from(apistox_self_sim, k=1)].mean()\n",
    "cross_dataset_mean = cross_dataset_sim.mean()\n",
    "\n",
    "print(f\"Avg BACE Tanimoto self-similarity: {bace_self_mean:.3f}\")\n",
    "print(f\"Avg ApisTox Tanimoto self-similarity: {apistox_self_mean:.3f}\")\n",
    "print(f\"Avg BACE-ApisTox Tanimoto similarity: {cross_dataset_mean:.3f}\")"
   ]
  },
  {
   "cell_type": "markdown",
   "id": "d38de472-6e77-44b2-855e-d7be436d12a9",
   "metadata": {},
   "source": [
    "Let's use the [bounding box method](https://scikit-fingerprints.readthedocs.io/latest/modules/generated/skfp.applicability_domain.ConvexHullADChecker.html) for checking the applicability domain. It simply checks if the feature values fall inside the min-max range seen in the training data, basically performing univariate outlier detection. Note that many AD checks do not work well on fingerprints, including this one, so we will use continuous RDKit descriptors instead.\n",
    "\n",
    "AD checkers, in contrast to fingerprints, need to be fitted to training data with `.fit()` method. Then we can use the `.predict()` method to get binary outside/inside AD predictions (inside = class 1). Some algorithms also implement an interpretable `.score_samples()` method to get a continous score how far a molecule is from the applicability domain."
   ]
  },
  {
   "cell_type": "code",
   "execution_count": 8,
   "id": "b1e13b7b-039b-44cf-a519-51517845caee",
   "metadata": {
    "ExecuteTime": {
     "end_time": "2025-09-10T14:32:00.832507Z",
     "start_time": "2025-09-10T14:31:56.419143Z"
    },
    "scrolled": true
   },
   "outputs": [],
   "source": [
    "from skfp.fingerprints import RDKit2DDescriptorsFingerprint\n",
    "from sklearn.impute import SimpleImputer\n",
    "\n",
    "\n",
    "fp = RDKit2DDescriptorsFingerprint(n_jobs=-1)\n",
    "X_bace = fp.transform(bace_smiles)\n",
    "X_apistox = fp.transform(apistox_smiles)\n",
    "\n",
    "# some RDKit descriptors may have missing values in some cases\n",
    "imputer = SimpleImputer()\n",
    "X_bace = imputer.fit_transform(X_bace)\n",
    "X_apistox = imputer.transform(X_apistox)"
   ]
  },
  {
   "cell_type": "code",
   "execution_count": 9,
   "id": "3c99521d-e0f9-4057-882e-8644dcf55128",
   "metadata": {
    "ExecuteTime": {
     "end_time": "2025-09-10T14:32:00.864760Z",
     "start_time": "2025-09-10T14:32:00.844551Z"
    },
    "scrolled": true
   },
   "outputs": [
    {
     "name": "stdout",
     "output_type": "stream",
     "text": [
      "ApisTox size: 1035\n",
      "Num inside AD: 162\n",
      "Num outside AD: 873\n"
     ]
    }
   ],
   "source": [
    "from skfp.applicability_domain import BoundingBoxADChecker\n",
    "\n",
    "\n",
    "ad_checker = BoundingBoxADChecker()\n",
    "ad_checker.fit(X_bace)\n",
    "\n",
    "ad_preds = ad_checker.predict(X_apistox)\n",
    "\n",
    "num_inside_ad = ad_preds.sum()\n",
    "num_outside_ad = (~ad_preds).sum()\n",
    "\n",
    "print(f\"ApisTox size: {len(X_apistox)}\")\n",
    "print(f\"Num inside AD: {num_inside_ad}\")\n",
    "print(f\"Num outside AD: {num_outside_ad}\")"
   ]
  },
  {
   "cell_type": "markdown",
   "id": "db09f1c1a2f2ec24",
   "metadata": {},
   "source": [
    "## Customizing scikit-fingerprints"
   ]
  },
  {
   "cell_type": "markdown",
   "id": "e202b4bd-4f56-4b3e-a9a3-028c938b575b",
   "metadata": {},
   "source": [
    "To see how customizable scikit-fingerprints is, we will create two custom fingerprints.\n",
    "\n",
    "**SMARTS example**\n",
    "\n",
    "First, we will create `CustomSMARTSFingerprint` that checks the occurrences of given SMARTS patterns."
   ]
  },
  {
   "cell_type": "code",
   "execution_count": 10,
   "id": "c5763e6a32e2006c",
   "metadata": {
    "ExecuteTime": {
     "end_time": "2025-09-10T14:32:00.886018Z",
     "start_time": "2025-09-10T14:32:00.879820Z"
    }
   },
   "outputs": [],
   "source": [
    "import numpy as np\n",
    "\n",
    "from skfp.bases import BaseSubstructureFingerprint\n",
    "\n",
    "\n",
    "class CustomSMARTSFingerprint(BaseSubstructureFingerprint):\n",
    "    def __init__(\n",
    "        self,\n",
    "        # arguments required for compatibility with parent class\n",
    "        # you could ignore those, but they provide full functionality\n",
    "        count: bool = False,\n",
    "        sparse: bool = False,\n",
    "        n_jobs: int | None = None,\n",
    "        batch_size: int | None = None,\n",
    "        verbose: int | dict = 0,\n",
    "    ):\n",
    "        # SMARTS patterns for our fingerprint, subset of PubChem fingerprint\n",
    "        smarts_patterns = [\n",
    "            \"[#6]-,:[#6]-,:[#6]#[#6]\",\n",
    "            \"[#8]-,:[#6]-,:[#6]=,:[#7]\",\n",
    "            \"[#8]-,:[#6]-,:[#6]=,:[#8]\",\n",
    "            \"[#7]:[#6]-,:[#16&!H0]\",\n",
    "            \"[#7]-,:[#6]-,:[#6]=,:[#6]\",\n",
    "            \"[#8]=,:[#16]-,:[#6]-,:[#6]\",\n",
    "            \"[#7]#[#6]-,:[#6]=,:[#6]\",\n",
    "            \"[#6]=,:[#7]-,:[#7]-,:[#6]\",\n",
    "            \"[#8]=,:[#16]-,:[#6]-,:[#7]\",\n",
    "            \"[#16]-,:[#16]-,:[#6]:[#6]\",\n",
    "            \"[#6]:[#6]-,:[#6]=,:[#6]\",\n",
    "        ]\n",
    "        self._feature_names = smarts_patterns\n",
    "\n",
    "        # passing patterns to parent class is the only required element\n",
    "        super().__init__(\n",
    "            patterns=smarts_patterns,\n",
    "            count=count,\n",
    "            sparse=sparse,\n",
    "            n_jobs=n_jobs,\n",
    "            batch_size=batch_size,\n",
    "            verbose=verbose,\n",
    "        )\n",
    "\n",
    "    # you should implement this method if you can, but it is not necessary\n",
    "    def get_feature_names_out(self, input_features=None) -> np.ndarray:\n",
    "        return np.array(self._feature_names, dtype=object)\n"
   ]
  },
  {
   "cell_type": "code",
   "execution_count": 11,
   "id": "f019dde0e712cd7b",
   "metadata": {
    "ExecuteTime": {
     "end_time": "2025-09-10T14:32:00.999625Z",
     "start_time": "2025-09-10T14:32:00.911028Z"
    }
   },
   "outputs": [
    {
     "data": {
      "text/plain": [
       "array([[0, 0, 2, ..., 0, 0, 0],\n",
       "       [0, 0, 0, ..., 0, 0, 6],\n",
       "       [0, 0, 0, ..., 0, 0, 0],\n",
       "       ...,\n",
       "       [0, 0, 0, ..., 0, 0, 0],\n",
       "       [0, 0, 0, ..., 0, 0, 6],\n",
       "       [0, 0, 1, ..., 0, 0, 6]], shape=(1035, 11), dtype=uint32)"
      ]
     },
     "execution_count": 11,
     "metadata": {},
     "output_type": "execute_result"
    }
   ],
   "source": [
    "custom_smarts = CustomSMARTSFingerprint(n_jobs=-1, count=True)\n",
    "\n",
    "X = custom_smarts.transform(apistox_smiles)\n",
    "X"
   ]
  },
  {
   "cell_type": "markdown",
   "id": "723b97ae309912ca",
   "metadata": {},
   "source": [
    "**General fingerprint example**\n",
    "\n",
    "In the general case, e.g. when fingerprint includes more complex checks or features, we need to implement the `._calculate_fingerprint()` method.\n",
    "\n",
    "In `CustomAtomTypeFingerprint`, we will implement the simple fingerprint based on counting atom element types."
   ]
  },
  {
   "cell_type": "code",
   "execution_count": 18,
   "id": "fd8e2b875403edd9",
   "metadata": {
    "ExecuteTime": {
     "end_time": "2025-09-10T14:32:01.039596Z",
     "start_time": "2025-09-10T14:32:01.034252Z"
    }
   },
   "outputs": [],
   "source": [
    "from collections.abc import Sequence\n",
    "\n",
    "from rdkit.Chem import Mol\n",
    "from scipy.sparse import csr_array\n",
    "from skfp.bases import BaseFingerprintTransformer\n",
    "from skfp.utils import ensure_mols\n",
    "\n",
    "\n",
    "class CustomAtomTypeFingerprint(BaseFingerprintTransformer):\n",
    "    def __init__(\n",
    "        self,\n",
    "        count: bool = False,\n",
    "        sparse: bool = False,\n",
    "        n_jobs: int | None = None,\n",
    "        batch_size: int | None = None,\n",
    "        verbose: int | dict = 0,\n",
    "    ):\n",
    "        super().__init__(\n",
    "            n_features_out=10,\n",
    "            count=count,\n",
    "            sparse=sparse,\n",
    "            n_jobs=n_jobs,\n",
    "            batch_size=batch_size,\n",
    "            verbose=verbose,\n",
    "        )\n",
    "\n",
    "        # select some atom types\n",
    "        self.atom_types = [\"C\", \"N\", \"O\", \"S\", \"P\", \"F\", \"Cl\", \"Br\", \"I\", \"OTHER\"]\n",
    "\n",
    "        # utility for converting atom to feature list index\n",
    "        self.atom_to_idx = {atom: i for i, atom in enumerate(self.atom_types)}\n",
    "\n",
    "    # for simplicity, we omit `.get_feature_names_out()` this time\n",
    "\n",
    "    # `_calculate_fingerprints()` must be implemented in every custom fingerprint\n",
    "    def _calculate_fingerprint(self, X: Sequence[str | Mol]) -> np.ndarray | csr_array:\n",
    "        # make sure we have proper Mol inputs\n",
    "        X = ensure_mols(X)\n",
    "\n",
    "        # compute fingerprints\n",
    "        X = [self._get_per_molecule_atom_counts(mol) for mol in X]\n",
    "\n",
    "        # return dense or sparse outputs\n",
    "        return csr_array(X) if self.sparse else np.vstack(X)\n",
    "\n",
    "    def _get_per_molecule_atom_counts(self, mol: Mol) -> np.ndarray:\n",
    "        counts = np.zeros(len(self.atom_types), dtype=int)\n",
    "        for atom in mol.GetAtoms():\n",
    "            symbol = atom.GetSymbol()\n",
    "            if symbol in self.atom_to_idx:\n",
    "                counts[self.atom_to_idx[symbol]] += 1\n",
    "            else:\n",
    "                counts[self.atom_to_idx[\"OTHER\"]] += 1\n",
    "        \n",
    "        return counts\n"
   ]
  },
  {
   "cell_type": "code",
   "execution_count": 19,
   "id": "99f9204d8f69c24d",
   "metadata": {
    "ExecuteTime": {
     "end_time": "2025-09-10T14:32:01.155201Z",
     "start_time": "2025-09-10T14:32:01.082131Z"
    }
   },
   "outputs": [
    {
     "data": {
      "text/plain": [
       "array([[ 2,  0,  4, ...,  0,  0,  0],\n",
       "       [10,  0,  0, ...,  0,  0,  0],\n",
       "       [ 0,  0,  2, ...,  0,  0,  1],\n",
       "       ...,\n",
       "       [ 3,  2,  5, ...,  0,  0,  0],\n",
       "       [12,  1,  2, ...,  0,  0,  0],\n",
       "       [11,  1,  3, ...,  0,  0,  0]], shape=(1035, 10))"
      ]
     },
     "execution_count": 19,
     "metadata": {},
     "output_type": "execute_result"
    }
   ],
   "source": [
    "custom_atom_type = CustomAtomTypeFingerprint(n_jobs=-1, count=True)\n",
    "\n",
    "X = custom_atom_type.transform(apistox_smiles)\n",
    "X"
   ]
  },
  {
   "cell_type": "code",
   "execution_count": null,
   "id": "8c13d755681aa5f8",
   "metadata": {},
   "outputs": [],
   "source": []
  }
 ],
 "metadata": {
  "kernelspec": {
   "display_name": "Python 3 (ipykernel)",
   "language": "python",
   "name": "python3"
  },
  "language_info": {
   "codemirror_mode": {
    "name": "ipython",
    "version": 3
   },
   "file_extension": ".py",
   "mimetype": "text/x-python",
   "name": "python",
   "nbconvert_exporter": "python",
   "pygments_lexer": "ipython3",
   "version": "3.11.13"
  }
 },
 "nbformat": 4,
 "nbformat_minor": 5
}
