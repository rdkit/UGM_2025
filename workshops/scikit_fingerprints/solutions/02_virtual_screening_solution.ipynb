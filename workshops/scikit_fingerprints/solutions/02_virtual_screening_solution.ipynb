{
 "cells": [
  {
   "cell_type": "markdown",
   "id": "65e1b9bc-0458-4545-a504-cdb9e99919ac",
   "metadata": {
    "collapsed": true,
    "jupyter": {
     "outputs_hidden": true
    }
   },
   "source": [
    "# Virtual screening"
   ]
  },
  {
   "cell_type": "markdown",
   "id": "41c4c827-7387-4077-b924-1efc467addf4",
   "metadata": {},
   "source": [
    "Ligand-based virtual screening (LBVS) involves predicting bioactivity of large collections of compounds. It involves multiple steps, which are quite easy to perform with scikit-fingerprints.\n",
    "\n",
    "Notebook inspired by [Tutorial for the Teach-Discover-Treat (TDT) Competition 2014](https://github.com/sriniker/TDT-tutorial-2014/tree/master) by Sereina Riniker and Gregory Landrum.\n",
    "\n",
    "First, we will load the Malaria HTS dataset from the above competition. It was created in a series of high-throughput screening (HTS) campaigns from around 2010-2012. It contains an already binarized bioactivity labels.\n",
    "\n",
    "For shorter calculations in this tutorial, we will subsample the negative class to 100 thousand samples."
   ]
  },
  {
   "cell_type": "code",
   "id": "4d5ad9214c50edb4",
   "metadata": {
    "ExecuteTime": {
     "end_time": "2025-09-02T18:23:50.726227Z",
     "start_time": "2025-09-02T18:23:50.308046Z"
    }
   },
   "source": [
    "import pandas as pd\n",
    "import numpy as np\n",
    "\n",
    "df = pd.read_parquet(\"../data/malaria_hts_train.parquet\")\n",
    "\n",
    "# remove ambiguous labels\n",
    "df = df[df[\"label\"] != \"ambiguous\"]\n",
    "\n",
    "# get binary integer labels\n",
    "df[\"label\"] = df[\"label\"].map({\"false\": 0, \"true\": 1})\n",
    "\n",
    "smiles_list = df[\"SMILES\"].values\n",
    "labels = df[\"label\"].values\n",
    "\n",
    "# subsample\n",
    "pos_idx = np.where(labels == 1)[0]\n",
    "neg_idx = np.random.choice(np.where(labels == 0)[0], size=100_000, replace=False)\n",
    "idx = np.concatenate([pos_idx, neg_idx])\n",
    "smiles_list = smiles_list[idx].tolist()\n",
    "labels = labels[idx]\n",
    "\n",
    "print(f\"Positive samples: {len(pos_idx)}\")\n",
    "print(f\"Negative samples: {len(neg_idx)}\")\n",
    "print(f\"Shapes: SMILES list {len(smiles_list)}, labels {len(labels)}\")"
   ],
   "outputs": [
    {
     "name": "stdout",
     "output_type": "stream",
     "text": [
      "Positive samples: 1528\n",
      "Negative samples: 100000\n",
      "Shapes: SMILES list 101528, labels 101528\n"
     ]
    }
   ],
   "execution_count": 1
  },
  {
   "cell_type": "markdown",
   "id": "d97a9613ee1c3512",
   "metadata": {},
   "source": [
    "**Exercise 1**\n",
    "\n",
    "This dataset contains some invalid molecules, e.g. breaking valence rules in modern RDKit. Use `MolFromSmilesTransformer`, and note that:\n",
    "- some molecules may error out, so use `valid_only` and `.transform_x_y()`\n",
    "- you can parallelize it with `n_jobs` and `batch_size` for efficiency, just like fingerprints.\n",
    "\n",
    "Use [documentation](https://scikit-fingerprints.readthedocs.io/latest/api_reference.html) if necessary."
   ]
  },
  {
   "cell_type": "code",
   "id": "141063ec9a917a38",
   "metadata": {
    "ExecuteTime": {
     "end_time": "2025-09-02T18:23:56.098430Z",
     "start_time": "2025-09-02T18:23:50.737233Z"
    }
   },
   "source": [
    "from skfp.preprocessing import MolFromSmilesTransformer\n",
    "\n",
    "mol_from_smiles = MolFromSmilesTransformer(\n",
    "    valid_only=True, n_jobs=-1, batch_size=1000, verbose=True\n",
    ")\n",
    "\n",
    "mols, labels = mol_from_smiles.transform_x_y(smiles_list, labels)\n",
    "\n",
    "print(f\"Removed molecules: {len(smiles_list) - len(mols)}\")"
   ],
   "outputs": [
    {
     "data": {
      "text/plain": [
       "  0%|          | 0/101 [00:00<?, ?it/s]"
      ],
      "application/vnd.jupyter.widget-view+json": {
       "version_major": 2,
       "version_minor": 0,
       "model_id": "bb1d7fbcf1ce4c1a840548ca5f4a21c6"
      }
     },
     "metadata": {},
     "output_type": "display_data"
    },
    {
     "name": "stdout",
     "output_type": "stream",
     "text": [
      "Removed molecules: 1\n"
     ]
    }
   ],
   "execution_count": 2
  },
  {
   "cell_type": "markdown",
   "id": "9b7f68a9-8cfd-4069-bb87-f6f865b454ba",
   "metadata": {},
   "source": [
    "## Molecular filters"
   ]
  },
  {
   "cell_type": "markdown",
   "id": "49f95a68-45e2-490d-8f0b-a2748d174333",
   "metadata": {},
   "source": [
    "Typically, in LBVS we have huge collections of molecules. Many of those are highly reactive, promiscuous compounds, dyes, or contain toxic functional groups. Thus, we use **molecular filters** to remove them. They are sets of rules to remove unwanted compounds.\n",
    "\n",
    "They can be divided into 2 groups:\n",
    "\n",
    "1. **Physicochemical filters** - define allowed ranges of physicochemical descriptors (e.g. molecular weight, logP, HBA, HBD) and keep only molecules fulfilling those requirements. Examples include [Lipinski's rule of 5](https://scikit-fingerprints.readthedocs.io/latest/modules/generated/skfp.filters.LipinskiFilter.html#skfp.filters.LipinskiFilter) and [REOS](https://scikit-fingerprints.readthedocs.io/latest/modules/generated/skfp.filters.REOSFilter.html#skfp.filters.REOSFilter).\n",
    "2. **Substructural filters** - define unwanted substructures with SMARTS and keep only molecules that do not contain those patterns. Examples include [PAINS](https://scikit-fingerprints.readthedocs.io/latest/modules/generated/skfp.filters.PAINSFilter.html) and [Brenk filter](https://scikit-fingerprints.readthedocs.io/latest/modules/generated/skfp.filters.BrenkFilter.html).\n",
    "\n",
    "RDKit contains 10 substructural filters, but no physicochemical filters. Scikit-fingerprints implements 31 filters, 21 physicochemical and 10 substructural. API is based on [feature-engine](https://feature-engine.trainindata.com/en/latest/) and other scikit-learn compatible libraries for preprocessing data.\n",
    "\n",
    "Let's see an example for a substructural filter with RDKit."
   ]
  },
  {
   "cell_type": "code",
   "id": "76d9ff63-5f14-4ad1-ae9d-e65991c7bba0",
   "metadata": {
    "ExecuteTime": {
     "end_time": "2025-09-02T18:24:06.397792Z",
     "start_time": "2025-09-02T18:23:56.186338Z"
    }
   },
   "source": [
    "from rdkit.Chem import FilterCatalog\n",
    "from rdkit.Chem.rdfiltercatalog import FilterCatalogParams\n",
    "from tqdm.notebook import tqdm\n",
    "\n",
    "filter_catalog_pains_a = FilterCatalogParams.FilterCatalogs.PAINS_A\n",
    "params = FilterCatalog.FilterCatalogParams()\n",
    "params.AddCatalog(filter_catalog_pains_a)\n",
    "filters = FilterCatalog.FilterCatalog(params)\n",
    "\n",
    "mols_filtered_rdkit = []\n",
    "labels_filtered_rdkit = []\n",
    "for mol, label in tqdm(zip(mols, labels), total=len(mols)):\n",
    "    matches = filters.GetMatches(mol)\n",
    "    if not matches:\n",
    "        mols_filtered_rdkit.append(mol)\n",
    "        labels_filtered_rdkit.append(label)"
   ],
   "outputs": [
    {
     "name": "stderr",
     "output_type": "stream",
     "text": [
      "<frozen importlib._bootstrap>:241: RuntimeWarning: to-Python converter for class boost::shared_ptr<class RDKit::FilterHierarchyMatcher> already registered; second conversion method ignored.\n",
      "<frozen importlib._bootstrap>:241: RuntimeWarning: to-Python converter for class boost::shared_ptr<class RDKit::FilterCatalogEntry> already registered; second conversion method ignored.\n"
     ]
    },
    {
     "data": {
      "text/plain": [
       "  0%|          | 0/101527 [00:00<?, ?it/s]"
      ],
      "application/vnd.jupyter.widget-view+json": {
       "version_major": 2,
       "version_minor": 0,
       "model_id": "a27336709d6248a487055b699fb26385"
      }
     },
     "metadata": {},
     "output_type": "display_data"
    }
   ],
   "execution_count": 3
  },
  {
   "cell_type": "markdown",
   "id": "81a76863-7855-4dc8-b524-3d1d79033e91",
   "metadata": {},
   "source": [
    "And with scikit-fingerprints:"
   ]
  },
  {
   "cell_type": "code",
   "id": "946b802e-9a63-459f-ae18-8c47f9f479e2",
   "metadata": {
    "scrolled": true,
    "ExecuteTime": {
     "end_time": "2025-09-02T18:24:09.653650Z",
     "start_time": "2025-09-02T18:24:06.404422Z"
    }
   },
   "source": [
    "from skfp.filters import PAINSFilter\n",
    "\n",
    "\n",
    "filter_pains = PAINSFilter(variant=\"A\", n_jobs=-1, verbose=True)\n",
    "\n",
    "mols_filtered_skfp, labels_filtered_skfp = filter_pains.transform_x_y(mols, labels)"
   ],
   "outputs": [
    {
     "data": {
      "text/plain": [
       "  0%|          | 0/24 [00:00<?, ?it/s]"
      ],
      "application/vnd.jupyter.widget-view+json": {
       "version_major": 2,
       "version_minor": 0,
       "model_id": "c7221c61ea6e4d97ab334e6e97243cba"
      }
     },
     "metadata": {},
     "output_type": "display_data"
    }
   ],
   "execution_count": 4
  },
  {
   "cell_type": "markdown",
   "id": "a62c32c36a29a776",
   "metadata": {},
   "source": [
    "### Exercise 2\n",
    "\n",
    "Lipinski's rule of 5 is arguably the first and most famous molecular filters. It is a physicochemical filter, where a molecule can violate at most one of the rules:\n",
    "\n",
    "- molecular weight $\\leq 500$\n",
    "- hydrogen bond acceptors (HBA) $\\leq 10$\n",
    "- hydrogen bond donors (HBD) $\\leq 5$\n",
    "- logP $\\leq 5$\n",
    "\n",
    "Implement the Lipinski's rule using RDKit and `for` loop, and filter molecules. Remember to also filter labels for consistency! Relevant RDKit descriptors are in [rdkit.Chem.Descriptors](https://www.rdkit.org/docs/source/rdkit.Chem.Descriptors.html), [rdkit.Chem.rdMolDescriptors](https://www.rdkit.org/docs/source/rdkit.Chem.rdMolDescriptors.html), and [rdkit.Chem.Crippen](https://www.rdkit.org/docs/source/rdkit.Chem.Crippen.html) modules.\n",
    "\n",
    "Then, use the [scikit-fingerprints LipinskiFilter](https://scikit-fingerprints.readthedocs.io/latest/modules/generated/skfp.filters.LipinskiFilter.html#skfp.filters.LipinskiFilter) and compare the two."
   ]
  },
  {
   "cell_type": "code",
   "id": "95f48596-7cf9-4def-ab83-046b4676a799",
   "metadata": {
    "ExecuteTime": {
     "end_time": "2025-09-02T18:24:33.473693Z",
     "start_time": "2025-09-02T18:24:09.661657Z"
    }
   },
   "source": [
    "from rdkit.Chem.Crippen import MolLogP\n",
    "from rdkit.Chem.Descriptors import MolWt\n",
    "from rdkit.Chem.rdMolDescriptors import CalcNumLipinskiHBA, CalcNumLipinskiHBD\n",
    "\n",
    "\n",
    "mols_filtered_rdkit = []\n",
    "labels_filtered_rdkit = []\n",
    "for mol, label in tqdm(zip(mols, labels), total=len(mols)):\n",
    "    rules = [\n",
    "        MolWt(mol) <= 500,  # molecular weight\n",
    "        CalcNumLipinskiHBA(mol) <= 10,  # HBA\n",
    "        CalcNumLipinskiHBD(mol) <= 5,  # HBD\n",
    "        MolLogP(mol) <= 5,  # logP\n",
    "    ]\n",
    "\n",
    "    if sum(rules) >= 3:\n",
    "        mols_filtered_rdkit.append(mol)\n",
    "        labels_filtered_rdkit.append(label)"
   ],
   "outputs": [
    {
     "data": {
      "text/plain": [
       "  0%|          | 0/101527 [00:00<?, ?it/s]"
      ],
      "application/vnd.jupyter.widget-view+json": {
       "version_major": 2,
       "version_minor": 0,
       "model_id": "eb879c16687b4eac980b9cf27327600e"
      }
     },
     "metadata": {},
     "output_type": "display_data"
    }
   ],
   "execution_count": 5
  },
  {
   "cell_type": "code",
   "id": "63ff9ae71bcc16a3",
   "metadata": {
    "scrolled": true,
    "ExecuteTime": {
     "end_time": "2025-09-02T18:24:37.586016Z",
     "start_time": "2025-09-02T18:24:33.484279Z"
    }
   },
   "source": [
    "from skfp.filters import LipinskiFilter\n",
    "\n",
    "lipinski_filter = LipinskiFilter(n_jobs=-1, verbose=True)\n",
    "mols_filtered_skfp, labels_filtered_skfp = lipinski_filter.transform_x_y(mols, labels)"
   ],
   "outputs": [
    {
     "data": {
      "text/plain": [
       "  0%|          | 0/24 [00:00<?, ?it/s]"
      ],
      "application/vnd.jupyter.widget-view+json": {
       "version_major": 2,
       "version_minor": 0,
       "model_id": "8ea2f1cfa5e94b7a9a35377c26148ebd"
      }
     },
     "metadata": {},
     "output_type": "display_data"
    }
   ],
   "execution_count": 6
  },
  {
   "cell_type": "markdown",
   "id": "6803bb78e46281c4",
   "metadata": {},
   "source": [
    "**Exercise 3**\n",
    "\n",
    "Scikit-learn `Pipeline` does not support `.transform_x_y()`, so in order to use multiple filters, we need to apply them one after another. A common example is using multiple PAINS sets A, B, C.\n",
    "\n",
    "Create a list of filters `PAINSFilter` with different variants A, B and C. Apply filtering on molecules and labels with all three filters one after another.\n",
    "\n",
    "Save final results in variables `mols_filtered` and `labels_filtered`, which we will use in the rest of the notebook."
   ]
  },
  {
   "cell_type": "code",
   "id": "f10844ef7fa56595",
   "metadata": {
    "scrolled": true,
    "ExecuteTime": {
     "end_time": "2025-09-02T18:25:04.693976Z",
     "start_time": "2025-09-02T18:24:37.593241Z"
    }
   },
   "source": [
    "from skfp.filters import PAINSFilter\n",
    "\n",
    "pains_filters = [\n",
    "    PAINSFilter(variant=\"A\", n_jobs=-1),\n",
    "    PAINSFilter(variant=\"B\", n_jobs=-1),\n",
    "    PAINSFilter(variant=\"C\", n_jobs=-1),\n",
    "]\n",
    "\n",
    "mols_filtered = mols\n",
    "labels_filtered = labels\n",
    "\n",
    "for pains_filter_variant in pains_filters:\n",
    "    mols_filtered, labels_filtered = pains_filter_variant.transform_x_y(\n",
    "        mols_filtered, labels_filtered\n",
    "    )"
   ],
   "outputs": [],
   "execution_count": 7
  },
  {
   "cell_type": "markdown",
   "id": "cb2ef35e-d178-4c60-8ed5-5f220cab8d82",
   "metadata": {},
   "source": [
    "Let's check how many molecules we have after filtering:"
   ]
  },
  {
   "cell_type": "code",
   "id": "9c40f323c65b4d29",
   "metadata": {
    "ExecuteTime": {
     "end_time": "2025-09-02T18:25:04.705184Z",
     "start_time": "2025-09-02T18:25:04.701595Z"
    }
   },
   "source": [
    "n_active = labels_filtered.sum()\n",
    "n_inactive = len(labels_filtered) - n_active\n",
    "\n",
    "print(f\"Number of molecules: before {len(mols)}, after {len(mols_filtered)}\")\n",
    "print(f\"Inactive molecules: {n_inactive}\")\n",
    "print(f\"Active molecules: {n_active}\")"
   ],
   "outputs": [
    {
     "name": "stdout",
     "output_type": "stream",
     "text": [
      "Number of molecules: before 101527, after 94308\n",
      "Inactive molecules: 93093\n",
      "Active molecules: 1215\n"
     ]
    }
   ],
   "execution_count": 8
  },
  {
   "cell_type": "markdown",
   "id": "50a22cd1-253b-449f-85f4-137a9c9d6b55",
   "metadata": {},
   "source": [
    "## Data splits\n",
    "\n",
    "In previous notebook, we used predefined splits. For new datasets, we need to compute them explicitly. Doing this with RDKit or DeepChem requires quite a lot of boilerplate code. Let's see the scaffold split as the most popular example, computed with RDKit. Here, the test set consists of the least frequent scaffolds."
   ]
  },
  {
   "cell_type": "code",
   "id": "d06a073a3bcc0713",
   "metadata": {
    "ExecuteTime": {
     "end_time": "2025-09-02T18:25:14.876126Z",
     "start_time": "2025-09-02T18:25:04.713084Z"
    }
   },
   "source": [
    "from copy import deepcopy\n",
    "from rdkit.Chem.Scaffolds import MurckoScaffold\n",
    "from rdkit import Chem\n",
    "from collections import defaultdict\n",
    "from math import ceil\n",
    "\n",
    "data_size = len(mols)\n",
    "test_size = ceil(0.2 * data_size)\n",
    "train_size = data_size - test_size\n",
    "\n",
    "scaffold_sets = defaultdict(list)\n",
    "for idx, mol in enumerate(mols):\n",
    "    mol = deepcopy(mol)\n",
    "    Chem.RemoveStereochemistry(mol)\n",
    "    scaffold = MurckoScaffold.MurckoScaffoldSmiles(mol=mol)\n",
    "    scaffold_sets[scaffold].append(idx)\n",
    "\n",
    "# sort ascending by size of scaffold set\n",
    "scaffold_sets = list(scaffold_sets.values())\n",
    "scaffold_sets.sort(key=len)\n",
    "\n",
    "# assign the least frequent sets to test, rest to train\n",
    "train_idxs: list[int] = []\n",
    "test_idxs: list[int] = []\n",
    "for scaffold_set in scaffold_sets:\n",
    "    if len(test_idxs) < test_size:\n",
    "        test_idxs.extend(scaffold_set)\n",
    "    else:\n",
    "        train_idxs.extend(scaffold_set)\n",
    "\n",
    "mols_train = [mols[i] for i in train_idxs]\n",
    "mols_test = [mols[i] for i in test_idxs]\n",
    "\n",
    "y_train = labels[train_idxs]\n",
    "y_test = labels[test_idxs]"
   ],
   "outputs": [],
   "execution_count": 9
  },
  {
   "cell_type": "code",
   "id": "a1297fa8b93419fd",
   "metadata": {
    "ExecuteTime": {
     "end_time": "2025-09-02T18:25:14.889987Z",
     "start_time": "2025-09-02T18:25:14.886541Z"
    }
   },
   "source": [
    "len(mols_train), len(mols_test)"
   ],
   "outputs": [
    {
     "data": {
      "text/plain": [
       "(81218, 20309)"
      ]
     },
     "execution_count": 10,
     "metadata": {},
     "output_type": "execute_result"
    }
   ],
   "execution_count": 10
  },
  {
   "cell_type": "markdown",
   "id": "327aeb1b9ec3468f",
   "metadata": {},
   "source": [
    "**Exercise 4**\n",
    "\n",
    "Scikit-fingerprints implements [5 data splitting functions](https://scikit-fingerprints.readthedocs.io/latest/modules/model_selection.html), including train-test and train-valid-test splitters.\n",
    "\n",
    "Using scikit-fingerprints, implement scaffold splitting. Remember to set `random_state=0` for MaxMin for deterministic results.\n",
    "\n",
    "Use variable names like `mols_train_scaffold`, `mols_test_scaffold`, etc."
   ]
  },
  {
   "cell_type": "code",
   "id": "4b98b807744b9ab0",
   "metadata": {
    "ExecuteTime": {
     "end_time": "2025-09-02T18:25:25.469393Z",
     "start_time": "2025-09-02T18:25:14.900125Z"
    }
   },
   "source": [
    "from skfp.model_selection import scaffold_train_test_split\n",
    "\n",
    "\n",
    "mols_train_scaffold, mols_test_scaffold, y_train_scaffold, y_test_scaffold = (\n",
    "    scaffold_train_test_split(mols, labels, test_size=0.2)\n",
    ")"
   ],
   "outputs": [],
   "execution_count": 11
  },
  {
   "cell_type": "code",
   "id": "a9eb7d16c31ea4b",
   "metadata": {
    "ExecuteTime": {
     "end_time": "2025-09-02T18:25:25.482494Z",
     "start_time": "2025-09-02T18:25:25.478498Z"
    }
   },
   "source": [
    "len(mols_train_scaffold), len(mols_test_scaffold)"
   ],
   "outputs": [
    {
     "data": {
      "text/plain": [
       "(81218, 20309)"
      ]
     },
     "execution_count": 12,
     "metadata": {},
     "output_type": "execute_result"
    }
   ],
   "execution_count": 12
  },
  {
   "cell_type": "markdown",
   "id": "7e52e746-75f0-479d-9cc6-b741fabf8cf2",
   "metadata": {},
   "source": [
    "## Similarity searching LBVS"
   ]
  },
  {
   "cell_type": "markdown",
   "id": "afaf553e-d6b8-4aaa-b6fc-a0405064f1a9",
   "metadata": {},
   "source": [
    "In similarity searching ligand-based virtual screening, the algorithm looks as follows:\n",
    "\n",
    "1. Split into train and test\n",
    "2. Keep only actives (class 1) from train\n",
    "3. Vectorize all molecules, e.g. with molecular fingerprints\n",
    "4. For a new molecule from test, calculate similarity values to all train actives. Aggregate them, e.g. as maximum similarity (max fusion)\n",
    "5. Sort test molecules from highest to lowest score\n",
    "\n",
    "This way, we have a sorted list of new molecules, from most to least promising. We are interested in top molecules, e.g. best 100, to synthesize and check in the lab.\n",
    "\n",
    "Let's see how this works with RDKit."
   ]
  },
  {
   "cell_type": "code",
   "id": "0e351142-8470-40a6-95ac-4df5c541e1f5",
   "metadata": {
    "ExecuteTime": {
     "end_time": "2025-09-02T18:26:01.487121Z",
     "start_time": "2025-09-02T18:25:25.494186Z"
    }
   },
   "source": [
    "from rdkit.ML.Scoring.Scoring import CalcBEDROC\n",
    "from rdkit.DataStructs import TanimotoSimilarity\n",
    "from rdkit.Chem.rdFingerprintGenerator import GetMorganGenerator\n",
    "\n",
    "y_train_active_mask = y_train_scaffold == 1\n",
    "mols_active_train_scaffold = np.array(mols_train_scaffold)[y_train_active_mask]\n",
    "\n",
    "gen = GetMorganGenerator(radius=2, fpSize=2048)\n",
    "X_train = [gen.GetFingerprint(mol) for mol in mols_active_train_scaffold]\n",
    "X_test = [gen.GetFingerprint(mol) for mol in mols_test]\n",
    "\n",
    "similarities = []\n",
    "for test_mol in tqdm(X_test):\n",
    "    similarities.append([])\n",
    "    for train_pos_mol in X_train:\n",
    "        sim = TanimotoSimilarity(test_mol, train_pos_mol)\n",
    "        similarities[-1].append(sim)\n",
    "\n",
    "similarities = np.array(similarities)\n",
    "similarities = similarities.max(axis=-1)\n",
    "\n",
    "sim_sort_idx = np.argsort(similarities)[::-1]\n",
    "\n",
    "similarities_sorted = similarities[sim_sort_idx]\n",
    "y_test_sorted = y_test_scaffold[sim_sort_idx]\n",
    "\n",
    "scores = list(zip(similarities_sorted, y_test_sorted))\n",
    "\n",
    "bedroc = CalcBEDROC(scores, col=1, alpha=20)\n",
    "print(f\"BEDROC: {bedroc:.2%}\")"
   ],
   "outputs": [
    {
     "data": {
      "text/plain": [
       "  0%|          | 0/20309 [00:00<?, ?it/s]"
      ],
      "application/vnd.jupyter.widget-view+json": {
       "version_major": 2,
       "version_minor": 0,
       "model_id": "2904223f24dc4664887b1633fdc8baee"
      }
     },
     "metadata": {},
     "output_type": "display_data"
    },
    {
     "name": "stdout",
     "output_type": "stream",
     "text": [
      "BEDROC: 32.50%\n"
     ]
    }
   ],
   "execution_count": 13
  },
  {
   "cell_type": "markdown",
   "id": "43de0e51-0eae-495a-97e5-d10f0d925316",
   "metadata": {},
   "source": [
    "With scikit-fingerprints, this becomes shorter. This is quite similar to kNN from previous notebook, but here we use the `bulk_` functions. They are optimized with Numba to accelerate bulk computation of one-to-many similarities. This way, Python is basically as fast as C++.\n",
    "\n",
    "We also implemented metrics as functions with scikit-learn interface. This way, you can also import everything from a single place."
   ]
  },
  {
   "cell_type": "code",
   "id": "f92aae77-bec9-44df-8cbc-7b07e6bc0249",
   "metadata": {
    "scrolled": true,
    "ExecuteTime": {
     "end_time": "2025-09-02T18:26:04.860204Z",
     "start_time": "2025-09-02T18:26:01.501510Z"
    }
   },
   "source": [
    "from skfp.distances import bulk_tanimoto_binary_similarity\n",
    "from skfp.metrics import bedroc_score\n",
    "\n",
    "from skfp.fingerprints import ECFPFingerprint\n",
    "\n",
    "y_train_active_mask = y_train_scaffold == 1\n",
    "mols_active_train_scaffold = np.array(mols_train_scaffold)[y_train_active_mask]\n",
    "\n",
    "fp = ECFPFingerprint(n_jobs=-1)\n",
    "X_train = fp.transform(mols_active_train_scaffold)\n",
    "X_test = fp.transform(mols_test)\n",
    "\n",
    "sims = bulk_tanimoto_binary_similarity(X_train, X_test)\n",
    "y_pred_scores = np.max(sims, axis=0)\n",
    "\n",
    "bedroc = bedroc_score(y_test, y_pred_scores)\n",
    "print(f\"BEDROC: {bedroc:.2%}\")"
   ],
   "outputs": [
    {
     "name": "stdout",
     "output_type": "stream",
     "text": [
      "BEDROC: 32.57%\n"
     ]
    }
   ],
   "execution_count": 14
  },
  {
   "cell_type": "markdown",
   "id": "e478869d-11e1-454c-a2e2-d88a0304f7d0",
   "metadata": {},
   "source": [
    "**Exercise 5**\n",
    "\n",
    "Implement a variant of the method above, using:\n",
    "- [randomized scaffold split](https://scikit-fingerprints.readthedocs.io/latest/modules/generated/skfp.model_selection.randomized_scaffold_train_test_split.html#skfp.model_selection.randomized_scaffold_train_test_split) with 10 different seeds\n",
    "- ECFP count fingerprint with [Tanimoto count variant](https://scikit-fingerprints.readthedocs.io/latest/modules/generated/skfp.distances.bulk_tanimoto_count_similarity.html#skfp.distances.bulk_tanimoto_count_similarity)\n",
    "- report average and standard deviation of BEDROC and [enrichment factor at 5%](https://scikit-fingerprints.readthedocs.io/latest/modules/generated/skfp.metrics.enrichment_factor.html) across those 10 runs"
   ]
  },
  {
   "cell_type": "code",
   "id": "2fb4fe3c-e512-4e49-ae4b-8f9dd4a54cfc",
   "metadata": {
    "scrolled": true,
    "ExecuteTime": {
     "end_time": "2025-09-02T18:28:40.858751Z",
     "start_time": "2025-09-02T18:26:04.878196Z"
    }
   },
   "source": [
    "from skfp.model_selection import randomized_scaffold_train_test_split\n",
    "from skfp.metrics import enrichment_factor\n",
    "from tqdm.notebook import tqdm\n",
    "\n",
    "\n",
    "bedroc_values = []\n",
    "ef_values = []\n",
    "for random_state in tqdm(list(range(10))):\n",
    "    mols_train, mols_test, y_train, y_test = randomized_scaffold_train_test_split(\n",
    "        mols, labels, test_size=0.2, random_state=random_state\n",
    "    )\n",
    "\n",
    "    y_train_active_mask = y_train == 1\n",
    "    mols_active_train = np.array(mols_train)[y_train_active_mask]\n",
    "\n",
    "    fp = ECFPFingerprint(count=True, n_jobs=-1)\n",
    "    X_train = fp.transform(mols_active_train_scaffold)\n",
    "    X_test = fp.transform(mols_test)\n",
    "\n",
    "    sims = bulk_tanimoto_binary_similarity(X_train, X_test)\n",
    "    y_pred_scores = np.max(sims, axis=0)\n",
    "\n",
    "    bedroc = bedroc_score(y_test, y_pred_scores)\n",
    "    ef = enrichment_factor(y_test, y_pred_scores)\n",
    "\n",
    "    bedroc_values.append(bedroc)\n",
    "    ef_values.append(ef)\n",
    "\n",
    "\n",
    "bedroc_mean = np.mean(bedroc_values)\n",
    "bedroc_std = np.std(bedroc_values)\n",
    "\n",
    "ef_mean = np.mean(ef_values)\n",
    "ef_std = np.std(ef_values)\n",
    "\n",
    "print(f\"BEDROC: {bedroc_mean:.2%} +- {bedroc_std:.2%}\")\n",
    "print(f\"EF 5%: {ef_mean:.3f} +- {ef_std:.3f}\")"
   ],
   "outputs": [
    {
     "data": {
      "text/plain": [
       "  0%|          | 0/10 [00:00<?, ?it/s]"
      ],
      "application/vnd.jupyter.widget-view+json": {
       "version_major": 2,
       "version_minor": 0,
       "model_id": "c776008c0dfa4f45b7d1241f80dc7de2"
      }
     },
     "metadata": {},
     "output_type": "display_data"
    },
    {
     "name": "stdout",
     "output_type": "stream",
     "text": [
      "BEDROC: 84.29% +- 2.20%\n",
      "EF 5%: 16.496 +- 0.428\n"
     ]
    }
   ],
   "execution_count": 15
  },
  {
   "metadata": {
    "ExecuteTime": {
     "end_time": "2025-09-02T18:28:40.929267Z",
     "start_time": "2025-09-02T18:28:40.926261Z"
    }
   },
   "cell_type": "code",
   "source": "",
   "id": "cfa26a3851321c73",
   "outputs": [],
   "execution_count": null
  }
 ],
 "metadata": {
  "kernelspec": {
   "display_name": "Python 3 (ipykernel)",
   "language": "python",
   "name": "python3"
  },
  "language_info": {
   "codemirror_mode": {
    "name": "ipython",
    "version": 3
   },
   "file_extension": ".py",
   "mimetype": "text/x-python",
   "name": "python",
   "nbconvert_exporter": "python",
   "pygments_lexer": "ipython3",
   "version": "3.11.13"
  }
 },
 "nbformat": 4,
 "nbformat_minor": 5
}
