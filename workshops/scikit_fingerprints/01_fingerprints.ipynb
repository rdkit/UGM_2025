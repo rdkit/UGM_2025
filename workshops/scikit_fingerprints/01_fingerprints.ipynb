{
 "cells": [
  {
   "cell_type": "markdown",
   "id": "f86eb832-c51c-46c9-9b37-ed0b9bd6cb1b",
   "metadata": {
    "collapsed": true,
    "jupyter": {
     "outputs_hidden": true
    }
   },
   "source": [
    "# Scikit-fingerprints intro"
   ]
  },
  {
   "cell_type": "markdown",
   "id": "1af67375-e346-4fc4-8e48-92a7fa301158",
   "metadata": {},
   "source": [
    "Scikit-fingerprints is the scikit-learn compatible library for computing molecular fingerprints and other molecular ML & chemoinformatics tasks, based on RDKit.\n",
    "\n",
    "GitHub: https://github.com/scikit-fingerprints/scikit-fingerprints\n",
    "\n",
    "Documentation: https://scikit-fingerprints.readthedocs.io/latest/"
   ]
  },
  {
   "cell_type": "markdown",
   "id": "5e44a08c-9011-4b33-8a12-682389490109",
   "metadata": {},
   "source": [
    "## Datasets"
   ]
  },
  {
   "cell_type": "markdown",
   "id": "c6362fe3-50ed-4bb4-a015-6c131fb969ef",
   "metadata": {},
   "source": [
    "First, we will load some data - the BBBP (blood-brain barrier penetration) from [MoleculeNet](https://pubs.rsc.org/en/content/articlelanding/2018/sc/c7sc02664a) benchmark.\n",
    "\n",
    "Scikit-fingerprints has functions to download and load datasets from MoleculeNet, TDC, and others in `skfp.datasets` module ([documentation](https://scikit-fingerprints.readthedocs.io/latest/modules/datasets.html)). They are hosted [on HuggingFace](https://huggingface.co/scikit-fingerprints) for high availability."
   ]
  },
  {
   "cell_type": "code",
   "execution_count": null,
   "id": "440843d6-47b4-4e0e-adee-432b77a5c81a",
   "metadata": {},
   "outputs": [],
   "source": [
    "from skfp.datasets.moleculenet import load_bbbp\n",
    "\n",
    "\n",
    "smiles_list, y = load_bbbp()"
   ]
  },
  {
   "cell_type": "code",
   "execution_count": null,
   "id": "808facb1-7eca-4e22-a450-96fd973d549a",
   "metadata": {},
   "outputs": [],
   "source": [
    "smiles_list[:5]"
   ]
  },
  {
   "cell_type": "code",
   "execution_count": null,
   "id": "17937416-a480-4391-be66-744b47903a5b",
   "metadata": {},
   "outputs": [],
   "source": [
    "y"
   ]
  },
  {
   "cell_type": "markdown",
   "id": "46ac9b08-902a-4a95-8a36-fb9dfd56541f",
   "metadata": {},
   "source": [
    "The task is **binary classification** - predict if a molecule can pass through the blood-brain barrier.\n",
    "\n",
    "Let's parse SMILES as molecules. Parsing classes (input and output) are implemented as classes with `.transform()` method in scikit-fingerprints, in `skfp.preprocessing` module ([documentation](https://scikit-fingerprints.readthedocs.io/latest/modules/preprocessing.html)).\n",
    "\n",
    "Let's compare RDKit and scikit-fingerprints. The task is to parse all SMILES as molecules."
   ]
  },
  {
   "cell_type": "code",
   "execution_count": null,
   "id": "4769776e-d312-4961-869b-8ef0da70e9c8",
   "metadata": {
    "scrolled": true
   },
   "outputs": [],
   "source": [
    "from rdkit.Chem import MolFromSmiles\n",
    "\n",
    "mols_rdkit = [MolFromSmiles(smiles) for smiles in smiles_list]\n",
    "mols_rdkit[:5]"
   ]
  },
  {
   "cell_type": "code",
   "execution_count": null,
   "id": "30b618b5-e6fd-4fe5-a9fa-ecc3521357b1",
   "metadata": {
    "scrolled": true
   },
   "outputs": [],
   "source": [
    "from skfp.preprocessing import MolFromSmilesTransformer\n",
    "\n",
    "\n",
    "mol_from_smiles = MolFromSmilesTransformer()\n",
    "\n",
    "mols_skfp = mol_from_smiles.transform(smiles_list)\n",
    "mols_skfp[:5]"
   ]
  },
  {
   "cell_type": "markdown",
   "id": "8079251d-bbe0-4bf6-9cef-3b1d3bd7796d",
   "metadata": {},
   "source": [
    "This is a list of regular RDKit `Mol` objects, we can draw them or combine with other RDKit-compatible libraries."
   ]
  },
  {
   "cell_type": "code",
   "execution_count": null,
   "id": "3214e446-36d4-4873-a89b-612e2f911edd",
   "metadata": {},
   "outputs": [],
   "source": [
    "from rdkit.Chem import Draw\n",
    "\n",
    "Draw.MolToImage(mols_skfp[0])"
   ]
  },
  {
   "cell_type": "markdown",
   "id": "446fd119-f572-4ed9-812b-94da377f7f42",
   "metadata": {},
   "source": [
    "A few remarks:\n",
    "\n",
    "1. We have inconvenient warnings. What if we want to get rid of them?\n",
    "2. We may want to monitor progress.\n",
    "3. What happens if we have wrong SMILES that can't be parsed?\n",
    "\n",
    "Let's see a robust RDKit implementation that can do those things."
   ]
  },
  {
   "cell_type": "code",
   "execution_count": null,
   "id": "5f4c2fb0-525f-4097-8622-d7a0ca3a56d2",
   "metadata": {},
   "outputs": [],
   "source": [
    "from rdkit.rdBase import DisableLog, EnableLog\n",
    "from tqdm import tqdm\n",
    "\n",
    "\n",
    "# we need try/finally to make sure logs are turned on after this\n",
    "try:\n",
    "    DisableLog(\"rdApp.*\")\n",
    "\n",
    "    rdkit_mols = []\n",
    "    for smiles in tqdm(smiles_list):\n",
    "        mol = MolFromSmiles(smiles)\n",
    "        if mol is not None:\n",
    "            rdkit_mols.append(mol)\n",
    "finally:\n",
    "    EnableLog(\"rdApp.*\")"
   ]
  },
  {
   "cell_type": "markdown",
   "id": "45ef69ba-0cbe-4879-aa83-fc45035e0c5c",
   "metadata": {},
   "source": [
    "And with scikit-fingerprints:"
   ]
  },
  {
   "cell_type": "code",
   "execution_count": null,
   "id": "91b20de2-be43-44d4-a7e6-76bf7ef11393",
   "metadata": {},
   "outputs": [],
   "source": [
    "mol_from_smiles = MolFromSmilesTransformer(\n",
    "    valid_only=True, suppress_warnings=True, verbose=True\n",
    ")\n",
    "skfp_mols = mol_from_smiles.transform(smiles_list)"
   ]
  },
  {
   "cell_type": "markdown",
   "id": "5090919e-0465-4ede-b27d-3c752f7bed1e",
   "metadata": {},
   "source": [
    "One problem - if we remove some molecules, what about labels? Which ones were removed? We also need to filter them!\n",
    "\n",
    "With RDKit, we need to iterate on both mols and labels for that.\n",
    "\n",
    "Scikit-fingerprints has `.transform_x_y()` method for that cases, useful when you use `valid_only=True`."
   ]
  },
  {
   "cell_type": "code",
   "execution_count": null,
   "id": "026f6941-3203-4ee9-82e8-012e6888f790",
   "metadata": {},
   "outputs": [],
   "source": [
    "try:\n",
    "    DisableLog(\"rdApp.*\")\n",
    "\n",
    "    rdkit_mols = []\n",
    "    rdkit_labels = []\n",
    "    for smiles, label in tqdm(zip(smiles_list, y), total=len(y)):\n",
    "        mol = MolFromSmiles(smiles)\n",
    "        if mol is not None:\n",
    "            rdkit_mols.append(mol)\n",
    "            rdkit_labels.append(label)\n",
    "finally:\n",
    "    EnableLog(\"rdApp.*\")"
   ]
  },
  {
   "cell_type": "code",
   "execution_count": null,
   "id": "dcac88ce-67df-4571-ab09-2b021c9d5892",
   "metadata": {},
   "outputs": [],
   "source": [
    "mol_from_smiles = MolFromSmilesTransformer(\n",
    "    valid_only=True, suppress_warnings=True, verbose=True\n",
    ")\n",
    "skfp_mols, skfp_labels = mol_from_smiles.transform_x_y(smiles_list, y)"
   ]
  },
  {
   "cell_type": "markdown",
   "id": "e6581b31-243d-4cde-9819-90fcf0aac53d",
   "metadata": {},
   "source": [
    "**Exercise 1**\n",
    "\n",
    "Load the SIDER dataset from MoleculeNet benchmark, and parse it as molecules. Keep only valid molecules and their labels, and suppress parsing warnings.\n",
    "\n",
    "Use [scikit-fingerprints documentation](https://scikit-fingerprints.readthedocs.io/latest/api_reference.html) as necessary.\n",
    "\n",
    "Its task is to predict adverse drug reactions (ADRs) as drug side effects to 27 system organ classes. Thus, we have 27 binary classification tasks, and a matrix of labels instead of a vector.\n",
    "\n",
    "**Warning:** name variables so that you don't override those from BBBP, e.g. `smiles_list_sider`, `y_sider`, `mols_sider`."
   ]
  },
  {
   "cell_type": "code",
   "execution_count": null,
   "id": "e0e5cea4-0650-4bde-8ef3-ea2b4b40f25c",
   "metadata": {},
   "outputs": [],
   "source": []
  },
  {
   "cell_type": "markdown",
   "id": "8eb60826-6065-4e75-ba56-30a1a36bb221",
   "metadata": {},
   "source": [
    "## Molecular fingerprints"
   ]
  },
  {
   "cell_type": "markdown",
   "id": "9d9cee13-1672-4e85-a1aa-6dc56035b3a6",
   "metadata": {},
   "source": [
    "Molecular fingerprints are the basic way of turning molecules into feature vectors for ML. We can divide them roughly into 4 types:\n",
    "\n",
    "1. **Descriptors** - predefined sets of real numbers, e.g. molecular mass, logP, elements distribution. Examples include [RDKit 2D descriptors](https://scikit-fingerprints.readthedocs.io/latest/modules/generated/skfp.fingerprints.RDKit2DDescriptorsFingerprint.html), [Mordred](https://scikit-fingerprints.readthedocs.io/latest/modules/generated/skfp.fingerprints.MordredFingerprint.html), and [VSA](https://scikit-fingerprints.readthedocs.io/latest/modules/generated/skfp.fingerprints.VSAFingerprint.html).\n",
    "\n",
    "2. **Substructural fingerprints** - predefined set of substructures to detect, e.g. elements, functional groups, rings. Defined as a list of SMARTS patterns, typically created by expert chemists. Examples include [MACCS](https://scikit-fingerprints.readthedocs.io/latest/modules/generated/skfp.fingerprints.MACCSFingerprint.html), [Klekota-Roth](https://scikit-fingerprints.readthedocs.io/latest/modules/generated/skfp.fingerprints.KlekotaRothFingerprint.html), and [Laggner](https://scikit-fingerprints.readthedocs.io/latest/modules/generated/skfp.fingerprints.LaggnerFingerprint.html).\n",
    "\n",
    "3. **Hashed fingerprints** - most algorithmic in nature. Each one defines a particular subgraph shape, e.g. circular neighborhoods, the shortest paths between pairs of atoms, or short walks. All such subgraphs are extracted for a molecule, assigned integer identifiers, and hashed into the output feature vector. Examples include [ECFP (Morgan)](https://scikit-fingerprints.readthedocs.io/latest/modules/generated/skfp.fingerprints.ECFPFingerprint.html), [Atom Pair](https://scikit-fingerprints.readthedocs.io/latest/modules/generated/skfp.fingerprints.AtomPairFingerprint.html), and [RDKit fingerprint](https://scikit-fingerprints.readthedocs.io/latest/modules/generated/skfp.fingerprints.RDKitFingerprint.html).\n",
    "\n",
    "4. **Other** - some fingerprints are pretty hard to assign into one of those above categories, mostly those based on 3D conformations. They are often histograms or other statistics of interatomic distances with various weighting schemes (e.g., partial charge). Examples include [USR](https://scikit-fingerprints.readthedocs.io/latest/modules/generated/skfp.fingerprints.USRFingerprint.html), [Autocorrelation](https://scikit-fingerprints.readthedocs.io/latest/modules/generated/skfp.fingerprints.AutocorrFingerprint.html), and [MoRSE](https://scikit-fingerprints.readthedocs.io/latest/modules/generated/skfp.fingerprints.MORSEFingerprint.html).\n",
    "\n",
    "RDKit has:\n",
    "- a few descriptors available, but not as classes and in various places (e.g. RDKit 2D descriptors, VSA)\n",
    "- 1 substructural fingerprint (MACCS)\n",
    "- 10 hashed fingerprints (Atom Pair, Avalon, ECFP, ErG, Layered, MHFP, Pattern, RDKit, SECFP, Topological Torsion)\n",
    "- a few other fingerprints (some as functions, other as classes)\n",
    "\n",
    "Probably the biggest practical problem is that all of the above have very varied interfaces and modules - they need to be imported from 9 places!\n",
    "\n",
    "Scikit-fingerprints currently has 35 fingerprints, all with unified scikit-learn interface.\n",
    "\n",
    "Let's see an example with ECFP fingerprint, which has a generator interface in RDKit, a very nice API."
   ]
  },
  {
   "cell_type": "code",
   "execution_count": null,
   "id": "7ba6f146-ea38-4af8-b713-635051f4b059",
   "metadata": {},
   "outputs": [],
   "source": [
    "import numpy as np\n",
    "from rdkit.Chem.rdFingerprintGenerator import GetMorganGenerator\n",
    "\n",
    "\n",
    "# warning: by default computes ECFP6, not typically used ECFP4!\n",
    "gen = GetMorganGenerator(fpSize=2048, radius=2)\n",
    "\n",
    "X = [gen.GetFingerprintAsNumPy(mol) for mol in skfp_mols]\n",
    "X = np.vstack(X)\n",
    "X"
   ]
  },
  {
   "cell_type": "markdown",
   "id": "2d98dd91-ccd1-4728-99ef-36465be5c515",
   "metadata": {},
   "source": [
    "And with scikit-fingerprints:"
   ]
  },
  {
   "cell_type": "code",
   "execution_count": null,
   "id": "d7e43cc5-3b33-4562-b11d-fe86b01f2e44",
   "metadata": {},
   "outputs": [],
   "source": [
    "from skfp.fingerprints import ECFPFingerprint\n",
    "\n",
    "\n",
    "# ECFP4 by default\n",
    "ecfp_fp = ECFPFingerprint()\n",
    "\n",
    "X = ecfp_fp.transform(skfp_mols)\n",
    "\n",
    "X"
   ]
  },
  {
   "cell_type": "markdown",
   "id": "64cf8e4a-b694-41f8-880a-62dec3bc07ff",
   "metadata": {},
   "source": [
    "**Exercise 2**\n",
    "\n",
    "Calculate MACCS fingerprint with RDKit ([documentation](https://www.rdkit.org/docs/source/rdkit.Chem.rdMolDescriptors.html)) and with scikit-fingerprints ([documentation](https://scikit-fingerprints.readthedocs.io/latest/modules/generated/skfp.fingerprints.MACCSFingerprint.html)).\n",
    "\n",
    "**Warning:** in RDKit implementation, first feature of MACCS is actually unused and is always 0! It is just to index features from 1. Remove the first column in RDKit features. Scikit-fingerprints does this automatically."
   ]
  },
  {
   "cell_type": "code",
   "execution_count": null,
   "id": "b816ed4f-b544-4486-81be-1b3c3997235f",
   "metadata": {},
   "outputs": [],
   "source": []
  },
  {
   "cell_type": "markdown",
   "id": "02551bab-bd06-4c1a-a24d-30d861c5d945",
   "metadata": {},
   "source": [
    "One very nice thing about scikit-fingerprints is **full parallelism support**. You can pass `n_jobs` to any fingerprint, and it will be computed on that many cores. It can really speed up computation, particularly for computationally expensive fingerprints, like substructure ones, which have to check many SMARTS patterns.\n",
    "\n",
    "Let's see a comparison on Laggner fingerprint, which computes 307 functional groups. SIDER dataset is used here, as it is larger - BBBP is too small to really benefit from parallelism."
   ]
  },
  {
   "cell_type": "code",
   "execution_count": null,
   "id": "74a06dcd-229c-47c9-b845-c29fb444bc59",
   "metadata": {},
   "outputs": [],
   "source": [
    "from time import time\n",
    "from skfp.fingerprints import LaggnerFingerprint\n",
    "\n",
    "\n",
    "laggner_fp = LaggnerFingerprint()\n",
    "\n",
    "start = time()\n",
    "laggner_fp.transform(mols_sider)\n",
    "end = time()\n",
    "print(f\"Sequential time: {end - start}\")\n",
    "\n",
    "# -1 uses as many processes as you have cores\n",
    "laggner_fp = LaggnerFingerprint(n_jobs=-1)\n",
    "\n",
    "start = time()\n",
    "laggner_fp.transform(mols_sider)\n",
    "end = time()\n",
    "print(f\"Parallel time: {end - start}\")"
   ]
  },
  {
   "cell_type": "markdown",
   "id": "e5072b03-bd69-4a52-b0ba-8af91f1c8702",
   "metadata": {},
   "source": [
    "If you want to inspect feature names for substructural fingerprints, it's more or less impossible with RDKit, or at least very challenging. Scikit-fingerprints exposes them with standard `.get_feature_names_out()` method.\n",
    "\n",
    "This also enables great integrations with scikit-learn + Pandas or Polars, since DataFrames get feature names out-of-the-box."
   ]
  },
  {
   "cell_type": "code",
   "execution_count": null,
   "id": "160e8a8c-b8e4-4fa7-bbf2-d361457d667b",
   "metadata": {
    "scrolled": true
   },
   "outputs": [],
   "source": [
    "laggner_fp.get_feature_names_out()"
   ]
  },
  {
   "cell_type": "markdown",
   "id": "0ef44034-b1ac-4cbd-9002-c5722ee2a151",
   "metadata": {},
   "source": [
    "Let's do some machine learning now! At this point, molecules are turned into feature vectors and any tabular ML algorithm works.\n",
    "\n",
    "We could use [scaffold split](https://scikit-fingerprints.readthedocs.io/latest/modules/generated/skfp.model_selection.scaffold_train_test_split.html) to create train and test sets. For many benchmarks, however, indexes are already precomputed for fair comparison, e.g. in [Open Graph Benchmark (OGB)](https://scikit-fingerprints.readthedocs.io/latest/modules/datasets/generated/skfp.datasets.moleculenet.load_ogb_splits.html) for MoleculeNet datasets."
   ]
  },
  {
   "cell_type": "code",
   "execution_count": null,
   "id": "e10d1217-b117-476b-b7a2-f61676457b27",
   "metadata": {},
   "outputs": [],
   "source": [
    "from skfp.datasets.moleculenet import load_ogb_splits\n",
    "from sklearn.ensemble import RandomForestClassifier\n",
    "from sklearn.metrics import roc_auc_score\n",
    "\n",
    "\n",
    "train_idxs, valid_idxs, test_idxs = load_ogb_splits(dataset_name=\"BBBP\")\n",
    "\n",
    "# we don't tune anything, so let's merge training and validation\n",
    "train_idxs = train_idxs + valid_idxs\n",
    "\n",
    "ecfp_fp = ECFPFingerprint()\n",
    "X = ecfp_fp.transform(skfp_mols)\n",
    "\n",
    "X_train = X[train_idxs]\n",
    "y_train = skfp_labels[train_idxs]\n",
    "\n",
    "X_test = X[test_idxs]\n",
    "y_test = skfp_labels[test_idxs]\n",
    "\n",
    "clf = RandomForestClassifier(n_jobs=-1, random_state=0)\n",
    "clf.fit(X_train, y_train)\n",
    "\n",
    "y_pred_proba = clf.predict_proba(X_test)[:, 1]\n",
    "\n",
    "auroc = roc_auc_score(y_test, y_pred_proba)\n",
    "print(f\"AUROC: {auroc:.2%}\")"
   ]
  },
  {
   "cell_type": "markdown",
   "id": "c59a17b6-032f-413d-bde6-f7bd288426f3",
   "metadata": {},
   "source": [
    "But we can simplify that! With RDKit, you have to do as above: SMILES -> Mol -> fingerprint -> array, and only then do ML. But what if you want to:\n",
    "\n",
    "- change fingerprint hyperparameters, e.g. ECFP radius?\n",
    "- tune hyperparameters of both fingerprint and model?\n",
    "- serialize this after training, and load on production server?\n",
    "\n",
    "First, fingerprints take SMILES input, and will transform them inside as necessary to `Mol` objects. This also works in batches in parallel, so it is also quite memory-efficient.\n",
    "\n",
    "Second, scikit-fingerprints supports full scikit-learn interface. In particular, it means that it can e.g. be used in pipelines, in hyperparameter tuning, fingerprints can be serialized, and all other stuff.\n",
    "\n",
    "Let's see an example from start to end."
   ]
  },
  {
   "cell_type": "code",
   "execution_count": null,
   "id": "a3ef881c-15e4-4dcf-b862-d871974f056e",
   "metadata": {
    "scrolled": true
   },
   "outputs": [],
   "source": [
    "from sklearn.pipeline import make_pipeline\n",
    "\n",
    "\n",
    "smiles_list, y = load_bbbp()\n",
    "smiles_list = np.array(smiles_list)\n",
    "\n",
    "train_idxs, valid_idxs, test_idxs = load_ogb_splits(dataset_name=\"BBBP\")\n",
    "train_idxs = train_idxs + valid_idxs\n",
    "\n",
    "smiles_train = smiles_list[train_idxs]\n",
    "smiles_test = smiles_list[test_idxs]\n",
    "\n",
    "y_train = y[train_idxs]\n",
    "y_test = y[test_idxs]\n",
    "\n",
    "pipeline = make_pipeline(\n",
    "    ECFPFingerprint(), RandomForestClassifier(n_jobs=-1, random_state=0)\n",
    ")\n",
    "pipeline.fit(smiles_train, y_train)\n",
    "\n",
    "y_pred_proba = pipeline.predict_proba(smiles_test)[:, 1]\n",
    "\n",
    "auroc = roc_auc_score(y_test, y_pred_proba)\n",
    "print(f\"AUROC: {auroc:.2%}\")"
   ]
  },
  {
   "cell_type": "markdown",
   "id": "6a918fc0-5370-4499-8dde-e60c67236893",
   "metadata": {},
   "source": [
    "**Exercise 3**\n",
    "\n",
    "Build a pipeline for SIDER dataset:\n",
    "\n",
    "1. Use both Laggner fingerprint and ECFP fingerprint, merging their features with [FeatureUnion](https://scikit-learn.org/stable/modules/generated/sklearn.pipeline.FeatureUnion.html). Function [make_union()](https://scikit-learn.org/stable/modules/generated/sklearn.pipeline.make_union.html) is very convenient for this.\n",
    "2. Use Random Forest as a classifier - it works out-of-the-box for multioutput problems.\n",
    "3. Predict probabilities for test set, and extract only positive class probabilities with [extract_pos_proba()](https://scikit-fingerprints.readthedocs.io/latest/modules/generated/skfp.metrics.extract_pos_proba.html).\n",
    "4. Evaluate model using [multioutput AUROC](https://scikit-fingerprints.readthedocs.io/latest/modules/generated/skfp.metrics.multioutput_auroc_score.html).\n",
    "\n",
    "Split SIDER into train and test similar to what we did to BBBP. See documentation for [load_ogb_splits()](https://scikit-fingerprints.readthedocs.io/latest/modules/datasets/generated/skfp.datasets.moleculenet.load_ogb_splits.html) if necessary."
   ]
  },
  {
   "cell_type": "code",
   "execution_count": null,
   "id": "e12af990-c44f-405d-9ef3-72a7830ef5a4",
   "metadata": {
    "scrolled": true
   },
   "outputs": [],
   "source": []
  },
  {
   "cell_type": "markdown",
   "id": "820aa82e-acdd-40c5-bf2f-cab08cdadf5d",
   "metadata": {},
   "source": [
    "The last interesting thing is hyperparameter tuning. In regular scikit-learn `GridSearchCV`, the entire pipeline gets re-fitted each time. This means that if you want to tune both fingerprint and classifier, the fingerprint gets unnecessarily recomputed many times!\n",
    "\n",
    "Scikit-fingerprints fixes this problem with `FingerprintEstimatorGridSearch` class. It uses a nested loop, reusing fingerprint with a given set of hyperparameters. This gives exactly the same results as a regular grid search, but is faster."
   ]
  },
  {
   "cell_type": "code",
   "execution_count": null,
   "id": "1c8b706b-7c9e-4a55-9fff-b2623d5db930",
   "metadata": {
    "scrolled": true
   },
   "outputs": [],
   "source": [
    "from skfp.fingerprints import KlekotaRothFingerprint\n",
    "from skfp.model_selection import FingerprintEstimatorGridSearch\n",
    "from sklearn.model_selection import GridSearchCV\n",
    "\n",
    "# get mols to avoid a lot of warnings\n",
    "mol_from_smiles = MolFromSmilesTransformer(suppress_warnings=True)\n",
    "mols_train = mol_from_smiles.transform(smiles_train)\n",
    "mols_test = mol_from_smiles.transform(smiles_test)\n",
    "\n",
    "# much more expensive fingerprint, with almost 5000 SMARTS patterns\n",
    "fp = KlekotaRothFingerprint(n_jobs=-1)\n",
    "\n",
    "# binary vs count substructure fingerprint\n",
    "fp_param_grid = {\"count\": [False, True]}\n",
    "\n",
    "# regular CV for Random Forest\n",
    "estimator_cv = GridSearchCV(\n",
    "    estimator=RandomForestClassifier(n_jobs=-1, random_state=0),\n",
    "    param_grid={\"n_estimators\": [100, 300, 500], \"min_samples_split\": [2, 5, 10]},\n",
    ")\n",
    "\n",
    "fp_cv = FingerprintEstimatorGridSearch(\n",
    "    fingerprint=fp,\n",
    "    fp_param_grid=fp_param_grid,\n",
    "    estimator_cv=estimator_cv,\n",
    ")\n",
    "fp_cv.fit(mols_train, y_train)\n",
    "\n",
    "fp_cv"
   ]
  },
  {
   "cell_type": "markdown",
   "id": "d4811a62-c777-4a6a-ba38-457f4fcd1e1a",
   "metadata": {},
   "source": [
    "## Distances"
   ]
  },
  {
   "cell_type": "markdown",
   "id": "6453c5b4-e8ac-41d0-af89-f4652f26300c",
   "metadata": {},
   "source": [
    "RDKit implements quite a few measures to measure similarity between fingerprints, e.g. Tanimoto, Dice, or Braun-Blanquet. However, they only work on fingerprint objects, and not on NumPy arrays. This means that you can't use them for:\n",
    "\n",
    "- nearest neighbors searching in Python\n",
    "- kNN classifier\n",
    "- clustering algorithms\n",
    "\n",
    "Scikit-fingerprints implements [similarity and distance functions](https://scikit-fingerprints.readthedocs.io/latest/modules/distances.html) typically used in chemoinformatics that work on NumPy arrays. This means we can also use them in scikit-learn!\n",
    "\n",
    "Let's see an example with a kNN classifier. Note that it expects distance, not similarity, so we use Tanimoto distance = 1 - Tanimoto similarity."
   ]
  },
  {
   "cell_type": "code",
   "execution_count": null,
   "id": "c15ef136-55b4-44f3-944b-54adc424e641",
   "metadata": {
    "scrolled": true
   },
   "outputs": [],
   "source": [
    "from skfp.distances import tanimoto_binary_distance\n",
    "from sklearn.neighbors import KNeighborsClassifier\n",
    "\n",
    "\n",
    "mol_from_smiles = MolFromSmilesTransformer(suppress_warnings=True)\n",
    "mols_train = mol_from_smiles.transform(smiles_train)\n",
    "mols_test = mol_from_smiles.transform(smiles_test)\n",
    "\n",
    "fp = ECFPFingerprint()\n",
    "X_train = fp.transform(mols_train)\n",
    "X_test = fp.transform(mols_test)\n",
    "\n",
    "clf = KNeighborsClassifier(n_jobs=-1)\n",
    "clf.fit(X_train, y_train)\n",
    "\n",
    "y_pred_proba = clf.predict_proba(X_test)[:, 1]\n",
    "\n",
    "auroc = roc_auc_score(y_test, y_pred_proba)\n",
    "print(f\"AUROC: {auroc:.2%}\")"
   ]
  },
  {
   "cell_type": "markdown",
   "id": "3f71dbd8-5c0d-4566-9fda-e2903524ea27",
   "metadata": {},
   "source": [
    "**Exercise 4**\n",
    "\n",
    "Searching for most similar molecules to a given query is a typical functionality of chemoinformatics software. One of the most common substances that permeate the blood-brain barrier is caffeine (SMILES `CN1C=NC2=C1C(=O)N(C(=O)N2C)C`). Let's find drugs in BBBP most similar to caffeine.\n",
    "\n",
    "1. Compute ECFP count fingerprints for BBBP dataset (whole) and for caffeine.\n",
    "2. Use [NearestNeighbors](https://scikit-learn.org/stable/modules/generated/sklearn.neighbors.NearestNeighbors.html) and \"fit\" it with BBBP vectors. As distance metric, use count Tanimoto distance ([documentation](https://scikit-fingerprints.readthedocs.io/latest/modules/generated/skfp.distances.tanimoto_count_distance.html)).\n",
    "3. Find indexes of top 10 molecules most similar to caffeine with [.kneighbors()](https://scikit-learn.org/stable/modules/generated/sklearn.neighbors.NearestNeighbors.html#sklearn.neighbors.NearestNeighbors.kneighbors) method.\n",
    "4. Draw those molecules with RDKit."
   ]
  },
  {
   "cell_type": "code",
   "execution_count": null,
   "id": "d71a5a35-f05b-4cab-83e6-27a28e05b168",
   "metadata": {},
   "outputs": [],
   "source": []
  },
  {
   "cell_type": "code",
   "execution_count": null,
   "id": "a7fe06e5-d302-4389-ad88-6718b45c10ac",
   "metadata": {},
   "outputs": [],
   "source": []
  }
 ],
 "metadata": {
  "kernelspec": {
   "display_name": "Python 3 (ipykernel)",
   "language": "python",
   "name": "python3"
  },
  "language_info": {
   "codemirror_mode": {
    "name": "ipython",
    "version": 3
   },
   "file_extension": ".py",
   "mimetype": "text/x-python",
   "name": "python",
   "nbconvert_exporter": "python",
   "pygments_lexer": "ipython3",
   "version": "3.11.13"
  }
 },
 "nbformat": 4,
 "nbformat_minor": 5
}
